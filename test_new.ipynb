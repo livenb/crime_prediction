{
 "cells": [
  {
   "cell_type": "code",
   "execution_count": 1,
   "metadata": {
    "collapsed": true
   },
   "outputs": [],
   "source": [
    "import pandas as pd"
   ]
  },
  {
   "cell_type": "code",
   "execution_count": 2,
   "metadata": {
    "collapsed": false
   },
   "outputs": [],
   "source": [
    "filename = 'data/sfpd_clean.csv'\n",
    "sfdata = pd.read_csv(filename)\n"
   ]
  },
  {
   "cell_type": "code",
   "execution_count": 3,
   "metadata": {
    "collapsed": false
   },
   "outputs": [],
   "source": [
    "from geopy.geocoders import Nominatim\n",
    "import re\n",
    "locDict = {}"
   ]
  },
  {
   "cell_type": "code",
   "execution_count": 4,
   "metadata": {
    "collapsed": true
   },
   "outputs": [],
   "source": [
    "def get_zipcode(loc):\n",
    "    geolocator = Nominatim()\n",
    "    loc = re.sub(r'\\(|\\)', '', loc)\n",
    "    location = geolocator.reverse(loc)\n",
    "    zipcode = location.raw['address']['postcode']\n",
    "    return zipcode"
   ]
  },
  {
   "cell_type": "code",
   "execution_count": 5,
   "metadata": {
    "collapsed": true
   },
   "outputs": [],
   "source": [
    "locations = sfdata['Location'].unique()"
   ]
  },
  {
   "cell_type": "code",
   "execution_count": null,
   "metadata": {
    "collapsed": false
   },
   "outputs": [
    {
     "name": "stderr",
     "output_type": "stream",
     "text": [
      "0%                          100%\n",
      "[                              ]"
     ]
    },
    {
     "name": "stdout",
     "output_type": "stream",
     "text": [
      "<urlopen error [Errno 65] No route to host>\n"
     ]
    }
   ],
   "source": [
    "import pyprind\n",
    "import geopy\n",
    "import time\n",
    "import pickle\n",
    "\n",
    "def get_zip_dict(locations):\n",
    "    global locDict\n",
    "    n = len(locations)\n",
    "    bar = pyprind.ProgBar(n)\n",
    "    with open('data/sfpost.txt', 'w+') as f:\n",
    "        for i in xrange(n):\n",
    "            loc = locations[i]\n",
    "#             print loc\n",
    "            if loc not in locDict:\n",
    "                try:\n",
    "                    zipcode = get_zipcode(loc)\n",
    "#                     print zipcode\n",
    "                except geopy.exc.GeocoderServiceError as e:\n",
    "                    print e.args[0]\n",
    "                    if e.args[0] == 'HTTP Error 420: unused':\n",
    "                        time.sleep(1800)\n",
    "                        zipcode = get_zipcode(loc) \n",
    "                    elif e.args[0] == '<urlopen error [Errno 10060] A connection attempt failed because the connected party did not properly respond after a period of time, or established connection failed because connected host has failed to respond>':\n",
    "                        time.sleep(5)\n",
    "                        zipcode = get_zipcode(loc)\n",
    "                    elif e.args[0] == '<urlopen error [Errno 65] No route to host>':\n",
    "                        time.sleep(1800)\n",
    "                        zipcode = get_zipcode(loc) \n",
    "                f.write('{}, {} \\n'.format(loc, zipcode))\n",
    "                locDict[loc] = zipcode\n",
    "            bar.update()\n",
    "    return locDict\n",
    "            \n",
    "locDict1 = get_zip_dict(locations, locDict)\n"
   ]
  },
  {
   "cell_type": "code",
   "execution_count": 29,
   "metadata": {
    "collapsed": false
   },
   "outputs": [
    {
     "name": "stderr",
     "output_type": "stream",
     "text": [
      "0%                          100%\n",
      "[                              ]"
     ]
    }
   ],
   "source": [
    "import geocoder\n",
    "import logging\n",
    "\n",
    "def get_zip_dict_google(locations):\n",
    "    locDict = \n",
    "    n = len(locations)\n",
    "    bar = pyprind.ProgBar(n)\n",
    "    with open('data/sfpost.txt', 'w+') as f:\n",
    "        for i in xrange(n):\n",
    "            loc = locations[i]\n",
    "#             print loc\n",
    "            if loc not in locDict:\n",
    "                g = geocoder.google(loc, method='reverse')\n",
    "                attempts = 1\n",
    "                while not(g.ok) and attempts < 4:\n",
    "        #                 logging.warning('Geocoding ERROR: {}'.format(g.debug()))\n",
    "                    time.sleep(2)  # 2 seconds are specified in the API. If you still get errors, it's because you've reached the daily quota.\n",
    "                    g = geocoder.google(loc, method='reverse')\n",
    "                    attempts += 1\n",
    "                if attempts > 3:\n",
    "                    logging.warning('Daily quota of google lookups exceeded.')\n",
    "                    break\n",
    "                zipcode = g.postal\n",
    "                f.write('{}, {} \\n'.format(loc, zipcode))\n",
    "                locDict[loc] = zipcode\n",
    "            bar.update()\n",
    "    return locDict\n",
    "locDict1 = get_zip_dict_google(locations, locDict)\n"
   ]
  },
  {
   "cell_type": "code",
   "execution_count": null,
   "metadata": {
    "collapsed": false
   },
   "outputs": [],
   "source": []
  },
  {
   "cell_type": "code",
   "execution_count": 30,
   "metadata": {
    "collapsed": false
   },
   "outputs": [
    {
     "data": {
      "text/plain": [
       "1067"
      ]
     },
     "execution_count": 30,
     "metadata": {},
     "output_type": "execute_result"
    }
   ],
   "source": [
    "len(locDict)"
   ]
  },
  {
   "cell_type": "code",
   "execution_count": null,
   "metadata": {
    "collapsed": true
   },
   "outputs": [],
   "source": [
    "import pickle\n",
    "with open('data/sfpost.pkl', 'wb') as f:\n",
    "    pickle.dump(locDict, f, pickle.HIGHEST_PROTOCOL)"
   ]
  },
  {
   "cell_type": "code",
   "execution_count": null,
   "metadata": {
    "collapsed": true
   },
   "outputs": [],
   "source": [
    "sfdata['zipcode'] = sfdata['Location'].apply(lambda x: locDict[x])"
   ]
  },
  {
   "cell_type": "code",
   "execution_count": null,
   "metadata": {
    "collapsed": true
   },
   "outputs": [],
   "source": [
    "sfdata.to_csv(filename)"
   ]
  },
  {
   "cell_type": "code",
   "execution_count": null,
   "metadata": {
    "collapsed": false
   },
   "outputs": [],
   "source": [
    "sfdata.head()"
   ]
  },
  {
   "cell_type": "code",
   "execution_count": null,
   "metadata": {
    "collapsed": false
   },
   "outputs": [],
   "source": [
    "sfdf = sfdata.groupby(['Year', 'zipcode','CrimeCat'])['Unnamed: 0'].count()"
   ]
  },
  {
   "cell_type": "code",
   "execution_count": null,
   "metadata": {
    "collapsed": true
   },
   "outputs": [],
   "source": [
    "sfdf = sfdf.unstack().reset_index()"
   ]
  },
  {
   "cell_type": "code",
   "execution_count": null,
   "metadata": {
    "collapsed": false
   },
   "outputs": [],
   "source": [
    "sfdf = sfdf.fillna(0)"
   ]
  },
  {
   "cell_type": "code",
   "execution_count": null,
   "metadata": {
    "collapsed": true
   },
   "outputs": [],
   "source": [
    "from sklearn.decomposition import NMF\n",
    "from sklearn.cluster import KMeans\n",
    "from sklearn.metrics import silhouette_score"
   ]
  },
  {
   "cell_type": "code",
   "execution_count": null,
   "metadata": {
    "collapsed": false
   },
   "outputs": [],
   "source": [
    "sfdata['Address'].unique().shape"
   ]
  },
  {
   "cell_type": "code",
   "execution_count": null,
   "metadata": {
    "collapsed": false
   },
   "outputs": [],
   "source": [
    "sfdf.head()"
   ]
  },
  {
   "cell_type": "code",
   "execution_count": null,
   "metadata": {
    "collapsed": false
   },
   "outputs": [],
   "source": [
    "X = sfdf.drop(['Year', 'Address'], axis=1).values\n",
    "year = sfdf['Year'].values"
   ]
  },
  {
   "cell_type": "code",
   "execution_count": null,
   "metadata": {
    "collapsed": false
   },
   "outputs": [],
   "source": [
    "X.shape"
   ]
  },
  {
   "cell_type": "code",
   "execution_count": null,
   "metadata": {
    "collapsed": false
   },
   "outputs": [],
   "source": [
    "from scipy.spatial.distance import cdist\n",
    "import matplotlib.pyplot as plt\n",
    "from sklearn.preprocessing import StandardScaler\n",
    "%matplotlib inline\n",
    "\n",
    "scaler = StandardScaler()\n",
    "X_trans = scaler.fit_transform(X)\n",
    "def kmeans_one_year(X, year, yr):\n",
    "    dists = []\n",
    "    scores = []\n",
    "    for k in xrange(2, 10):\n",
    "        print k\n",
    "        kmeanModel = KMeans()\n",
    "        kmeanModel.fit(X[year == yr])\n",
    "        centroids = kmeanModel.cluster_centers_\n",
    "        labels = kmeanModel.labels_\n",
    "        dist = cdist(X, centroids)\n",
    "        dists.append(dist.min(axis=1).sum())\n",
    "        score = silhouette_score(X[year == yr], labels)\n",
    "        scores.append(score)\n",
    "    fig = plt.figure(figsize=(12,8))\n",
    "    ax1 = fig.add_subplot(121)\n",
    "    ax1.plot(xrange(2, 10), dists, 'b*-')\n",
    "    ax1.grid(True)\n",
    "    ax1.set_xlabel('Number of clusters')\n",
    "    ax1.set_ylabel('sum of squares')\n",
    "    ax2 = fig.add_subplot(122)\n",
    "    ax2.plot(xrange(2, 50), scores, 'b*-')\n",
    "    ax2.grid(True)\n",
    "    ax2.set_xlabel('Number of clusters')\n",
    "    ax2.set_ylabel('slihouette score')\n",
    "    plt.show()\n",
    "\n",
    "kmeans_one_year(X, year, 2003)"
   ]
  },
  {
   "cell_type": "code",
   "execution_count": 7,
   "metadata": {
    "collapsed": false
   },
   "outputs": [
    {
     "data": {
      "text/html": [
       "<div>\n",
       "<table border=\"1\" class=\"dataframe\">\n",
       "  <thead>\n",
       "    <tr style=\"text-align: right;\">\n",
       "      <th></th>\n",
       "      <th>Unnamed: 0</th>\n",
       "      <th>Category</th>\n",
       "      <th>Descript</th>\n",
       "      <th>DayOfWeek</th>\n",
       "      <th>PdDistrict</th>\n",
       "      <th>Address</th>\n",
       "      <th>X</th>\n",
       "      <th>Y</th>\n",
       "      <th>Location</th>\n",
       "      <th>CrimeCat</th>\n",
       "      <th>Hour</th>\n",
       "      <th>Month</th>\n",
       "      <th>Day</th>\n",
       "      <th>Year</th>\n",
       "    </tr>\n",
       "  </thead>\n",
       "  <tbody>\n",
       "    <tr>\n",
       "      <th>0</th>\n",
       "      <td>3</td>\n",
       "      <td>ROBBERY</td>\n",
       "      <td>ROBBERY, BODILY FORCE</td>\n",
       "      <td>4</td>\n",
       "      <td>SOUTHERN</td>\n",
       "      <td>0 Block of UNITEDNATIONS PZ</td>\n",
       "      <td>-122.414318</td>\n",
       "      <td>37.779944</td>\n",
       "      <td>(37.7799444052046, -122.414317857881)</td>\n",
       "      <td>2</td>\n",
       "      <td>21</td>\n",
       "      <td>6</td>\n",
       "      <td>16</td>\n",
       "      <td>2016</td>\n",
       "    </tr>\n",
       "    <tr>\n",
       "      <th>1</th>\n",
       "      <td>6</td>\n",
       "      <td>ASSAULT</td>\n",
       "      <td>ELDER ADULT OR DEPENDENT ABUSE (NOT EMBEZZLEME...</td>\n",
       "      <td>5</td>\n",
       "      <td>NORTHERN</td>\n",
       "      <td>300 Block of FULTON ST</td>\n",
       "      <td>-122.422536</td>\n",
       "      <td>37.778796</td>\n",
       "      <td>(37.7787958771466, -122.422536478306)</td>\n",
       "      <td>4</td>\n",
       "      <td>12</td>\n",
       "      <td>1</td>\n",
       "      <td>2</td>\n",
       "      <td>2015</td>\n",
       "    </tr>\n",
       "    <tr>\n",
       "      <th>2</th>\n",
       "      <td>9</td>\n",
       "      <td>LARCENY/THEFT</td>\n",
       "      <td>PETTY THEFT FROM LOCKED AUTO</td>\n",
       "      <td>5</td>\n",
       "      <td>INGLESIDE</td>\n",
       "      <td>600 Block of LONDON ST</td>\n",
       "      <td>-122.437928</td>\n",
       "      <td>37.719328</td>\n",
       "      <td>(37.7193276406568, -122.43792838007)</td>\n",
       "      <td>1</td>\n",
       "      <td>0</td>\n",
       "      <td>1</td>\n",
       "      <td>16</td>\n",
       "      <td>2015</td>\n",
       "    </tr>\n",
       "    <tr>\n",
       "      <th>3</th>\n",
       "      <td>12</td>\n",
       "      <td>VEHICLE THEFT</td>\n",
       "      <td>STOLEN MOTORCYCLE</td>\n",
       "      <td>5</td>\n",
       "      <td>BAYVIEW</td>\n",
       "      <td>700 Block of SILLIMAN ST</td>\n",
       "      <td>-122.412481</td>\n",
       "      <td>37.729247</td>\n",
       "      <td>(37.729246748441, -122.412480611343)</td>\n",
       "      <td>5</td>\n",
       "      <td>0</td>\n",
       "      <td>1</td>\n",
       "      <td>16</td>\n",
       "      <td>2015</td>\n",
       "    </tr>\n",
       "    <tr>\n",
       "      <th>4</th>\n",
       "      <td>17</td>\n",
       "      <td>LARCENY/THEFT</td>\n",
       "      <td>GRAND THEFT FROM LOCKED AUTO</td>\n",
       "      <td>3</td>\n",
       "      <td>SOUTHERN</td>\n",
       "      <td>0 Block of FOLSOM ST</td>\n",
       "      <td>-122.390556</td>\n",
       "      <td>37.790475</td>\n",
       "      <td>(37.7904750361645, -122.39055604599)</td>\n",
       "      <td>1</td>\n",
       "      <td>18</td>\n",
       "      <td>1</td>\n",
       "      <td>7</td>\n",
       "      <td>2015</td>\n",
       "    </tr>\n",
       "  </tbody>\n",
       "</table>\n",
       "</div>"
      ],
      "text/plain": [
       "   Unnamed: 0       Category  \\\n",
       "0           3        ROBBERY   \n",
       "1           6        ASSAULT   \n",
       "2           9  LARCENY/THEFT   \n",
       "3          12  VEHICLE THEFT   \n",
       "4          17  LARCENY/THEFT   \n",
       "\n",
       "                                            Descript  DayOfWeek PdDistrict  \\\n",
       "0                              ROBBERY, BODILY FORCE          4   SOUTHERN   \n",
       "1  ELDER ADULT OR DEPENDENT ABUSE (NOT EMBEZZLEME...          5   NORTHERN   \n",
       "2                       PETTY THEFT FROM LOCKED AUTO          5  INGLESIDE   \n",
       "3                                  STOLEN MOTORCYCLE          5    BAYVIEW   \n",
       "4                       GRAND THEFT FROM LOCKED AUTO          3   SOUTHERN   \n",
       "\n",
       "                       Address           X          Y  \\\n",
       "0  0 Block of UNITEDNATIONS PZ -122.414318  37.779944   \n",
       "1       300 Block of FULTON ST -122.422536  37.778796   \n",
       "2       600 Block of LONDON ST -122.437928  37.719328   \n",
       "3     700 Block of SILLIMAN ST -122.412481  37.729247   \n",
       "4         0 Block of FOLSOM ST -122.390556  37.790475   \n",
       "\n",
       "                                Location  CrimeCat  Hour  Month  Day  Year  \n",
       "0  (37.7799444052046, -122.414317857881)         2    21      6   16  2016  \n",
       "1  (37.7787958771466, -122.422536478306)         4    12      1    2  2015  \n",
       "2   (37.7193276406568, -122.43792838007)         1     0      1   16  2015  \n",
       "3   (37.729246748441, -122.412480611343)         5     0      1   16  2015  \n",
       "4   (37.7904750361645, -122.39055604599)         1    18      1    7  2015  "
      ]
     },
     "execution_count": 7,
     "metadata": {},
     "output_type": "execute_result"
    }
   ],
   "source": [
    "sfdata.head()\n"
   ]
  },
  {
   "cell_type": "code",
   "execution_count": null,
   "metadata": {
    "collapsed": true
   },
   "outputs": [],
   "source": []
  },
  {
   "cell_type": "code",
   "execution_count": null,
   "metadata": {
    "collapsed": false
   },
   "outputs": [],
   "source": []
  },
  {
   "cell_type": "code",
   "execution_count": null,
   "metadata": {
    "collapsed": false
   },
   "outputs": [],
   "source": []
  },
  {
   "cell_type": "code",
   "execution_count": null,
   "metadata": {
    "collapsed": true
   },
   "outputs": [],
   "source": []
  }
 ],
 "metadata": {
  "anaconda-cloud": {},
  "kernelspec": {
   "display_name": "Python [Root]",
   "language": "python",
   "name": "Python [Root]"
  },
  "language_info": {
   "codemirror_mode": {
    "name": "ipython",
    "version": 2
   },
   "file_extension": ".py",
   "mimetype": "text/x-python",
   "name": "python",
   "nbconvert_exporter": "python",
   "pygments_lexer": "ipython2",
   "version": "2.7.12"
  }
 },
 "nbformat": 4,
 "nbformat_minor": 0
}
