{
 "cells": [
  {
   "cell_type": "code",
   "execution_count": 18,
   "metadata": {
    "collapsed": true
   },
   "outputs": [],
   "source": [
    "import pandas as pd\n",
    "import matplotlib.pyplot as plt\n",
    "%matplotlib inline"
   ]
  },
  {
   "cell_type": "code",
   "execution_count": 2,
   "metadata": {
    "collapsed": true
   },
   "outputs": [],
   "source": [
    "ladf = pd.read_csv('data/la_clean.csv')"
   ]
  },
  {
   "cell_type": "code",
   "execution_count": 3,
   "metadata": {
    "collapsed": false
   },
   "outputs": [
    {
     "name": "stdout",
     "output_type": "stream",
     "text": [
      "<class 'pandas.core.frame.DataFrame'>\n",
      "RangeIndex: 980497 entries, 0 to 980496\n",
      "Data columns (total 14 columns):\n",
      "Unnamed: 0                      980497 non-null int64\n",
      "CITY                            980497 non-null object\n",
      "LATITUDE                        980497 non-null float64\n",
      "LONGITUDE                       980497 non-null float64\n",
      "STATION_NAME                    980497 non-null object\n",
      "STATISTICAL_CODE_DESCRIPTION    980497 non-null object\n",
      "STREET                          980497 non-null object\n",
      "ZIP                             980497 non-null float64\n",
      "CrimeCat                        980497 non-null int64\n",
      "Hour                            980497 non-null int64\n",
      "Month                           980497 non-null int64\n",
      "Day                             980497 non-null int64\n",
      "Year                            980497 non-null int64\n",
      "DayOfWeek                       980497 non-null int64\n",
      "dtypes: float64(3), int64(7), object(4)\n",
      "memory usage: 104.7+ MB\n"
     ]
    }
   ],
   "source": [
    "ladf.info()"
   ]
  },
  {
   "cell_type": "code",
   "execution_count": 4,
   "metadata": {
    "collapsed": false
   },
   "outputs": [
    {
     "data": {
      "text/html": [
       "<div>\n",
       "<table border=\"1\" class=\"dataframe\">\n",
       "  <thead>\n",
       "    <tr style=\"text-align: right;\">\n",
       "      <th></th>\n",
       "      <th>Unnamed: 0</th>\n",
       "      <th>CITY</th>\n",
       "      <th>LATITUDE</th>\n",
       "      <th>LONGITUDE</th>\n",
       "      <th>STATION_NAME</th>\n",
       "      <th>STATISTICAL_CODE_DESCRIPTION</th>\n",
       "      <th>STREET</th>\n",
       "      <th>ZIP</th>\n",
       "      <th>CrimeCat</th>\n",
       "      <th>Hour</th>\n",
       "      <th>Month</th>\n",
       "      <th>Day</th>\n",
       "      <th>Year</th>\n",
       "      <th>DayOfWeek</th>\n",
       "    </tr>\n",
       "  </thead>\n",
       "  <tbody>\n",
       "    <tr>\n",
       "      <th>0</th>\n",
       "      <td>1</td>\n",
       "      <td>MARINA DEL REY</td>\n",
       "      <td>33.981571</td>\n",
       "      <td>-118.460040</td>\n",
       "      <td>MARINA DEL REY</td>\n",
       "      <td>DRUNK: Alcohol</td>\n",
       "      <td>4100 ADMIRALTY WAY</td>\n",
       "      <td>90292.0</td>\n",
       "      <td>3</td>\n",
       "      <td>0</td>\n",
       "      <td>1</td>\n",
       "      <td>1</td>\n",
       "      <td>2012</td>\n",
       "      <td>7</td>\n",
       "    </tr>\n",
       "    <tr>\n",
       "      <th>1</th>\n",
       "      <td>2</td>\n",
       "      <td>COVINA</td>\n",
       "      <td>34.105441</td>\n",
       "      <td>-117.849251</td>\n",
       "      <td>SAN DIMAS</td>\n",
       "      <td>BURGLARY, RESIDENCE: Night, Entry No Force</td>\n",
       "      <td>5100 GREER AVE</td>\n",
       "      <td>91724.0</td>\n",
       "      <td>7</td>\n",
       "      <td>0</td>\n",
       "      <td>1</td>\n",
       "      <td>1</td>\n",
       "      <td>2012</td>\n",
       "      <td>7</td>\n",
       "    </tr>\n",
       "    <tr>\n",
       "      <th>2</th>\n",
       "      <td>7</td>\n",
       "      <td>LOS ANGELES</td>\n",
       "      <td>34.043482</td>\n",
       "      <td>-118.159613</td>\n",
       "      <td>EAST LOS ANGELES</td>\n",
       "      <td>GRAND THEFT VEHICLE (GTA): Automobile/Passenge...</td>\n",
       "      <td>610 N COLONIA DE LOS CEDROS</td>\n",
       "      <td>90022.0</td>\n",
       "      <td>5</td>\n",
       "      <td>2</td>\n",
       "      <td>1</td>\n",
       "      <td>1</td>\n",
       "      <td>2012</td>\n",
       "      <td>7</td>\n",
       "    </tr>\n",
       "    <tr>\n",
       "      <th>3</th>\n",
       "      <td>10</td>\n",
       "      <td>LANCASTER</td>\n",
       "      <td>34.697267</td>\n",
       "      <td>-118.146393</td>\n",
       "      <td>LANCASTER</td>\n",
       "      <td>BURGLARY, OTHER STRUCTURE: Day, Entry No Force</td>\n",
       "      <td>870 W LANCASTER BLVD</td>\n",
       "      <td>93534.0</td>\n",
       "      <td>7</td>\n",
       "      <td>15</td>\n",
       "      <td>4</td>\n",
       "      <td>21</td>\n",
       "      <td>2009</td>\n",
       "      <td>2</td>\n",
       "    </tr>\n",
       "    <tr>\n",
       "      <th>4</th>\n",
       "      <td>11</td>\n",
       "      <td>PASADENA</td>\n",
       "      <td>34.130000</td>\n",
       "      <td>-118.089695</td>\n",
       "      <td>TEMPLE</td>\n",
       "      <td>BURGLARY, RESIDENCE: Day, Entry By Force</td>\n",
       "      <td>3070 GAINSBOUROUGH DR</td>\n",
       "      <td>91107.0</td>\n",
       "      <td>7</td>\n",
       "      <td>10</td>\n",
       "      <td>2</td>\n",
       "      <td>14</td>\n",
       "      <td>2012</td>\n",
       "      <td>2</td>\n",
       "    </tr>\n",
       "  </tbody>\n",
       "</table>\n",
       "</div>"
      ],
      "text/plain": [
       "   Unnamed: 0            CITY   LATITUDE   LONGITUDE      STATION_NAME  \\\n",
       "0           1  MARINA DEL REY  33.981571 -118.460040    MARINA DEL REY   \n",
       "1           2          COVINA  34.105441 -117.849251         SAN DIMAS   \n",
       "2           7     LOS ANGELES  34.043482 -118.159613  EAST LOS ANGELES   \n",
       "3          10       LANCASTER  34.697267 -118.146393         LANCASTER   \n",
       "4          11        PASADENA  34.130000 -118.089695            TEMPLE   \n",
       "\n",
       "                        STATISTICAL_CODE_DESCRIPTION  \\\n",
       "0                                     DRUNK: Alcohol   \n",
       "1         BURGLARY, RESIDENCE: Night, Entry No Force   \n",
       "2  GRAND THEFT VEHICLE (GTA): Automobile/Passenge...   \n",
       "3     BURGLARY, OTHER STRUCTURE: Day, Entry No Force   \n",
       "4           BURGLARY, RESIDENCE: Day, Entry By Force   \n",
       "\n",
       "                        STREET      ZIP  CrimeCat  Hour  Month  Day  Year  \\\n",
       "0           4100 ADMIRALTY WAY  90292.0         3     0      1    1  2012   \n",
       "1               5100 GREER AVE  91724.0         7     0      1    1  2012   \n",
       "2  610 N COLONIA DE LOS CEDROS  90022.0         5     2      1    1  2012   \n",
       "3         870 W LANCASTER BLVD  93534.0         7    15      4   21  2009   \n",
       "4        3070 GAINSBOUROUGH DR  91107.0         7    10      2   14  2012   \n",
       "\n",
       "   DayOfWeek  \n",
       "0          7  \n",
       "1          7  \n",
       "2          7  \n",
       "3          2  \n",
       "4          2  "
      ]
     },
     "execution_count": 4,
     "metadata": {},
     "output_type": "execute_result"
    }
   ],
   "source": [
    "ladf.head()"
   ]
  },
  {
   "cell_type": "code",
   "execution_count": 9,
   "metadata": {
    "collapsed": false
   },
   "outputs": [],
   "source": [
    "week = ladf.groupby(['DayOfWeek', 'CrimeCat'])['Unnamed: 0'].count().unstack().reset_index()"
   ]
  },
  {
   "cell_type": "code",
   "execution_count": 16,
   "metadata": {
    "collapsed": false
   },
   "outputs": [
    {
     "name": "stdout",
     "output_type": "stream",
     "text": [
      "<class 'pandas.core.frame.DataFrame'>\n",
      "RangeIndex: 7 entries, 0 to 6\n",
      "Data columns (total 11 columns):\n",
      "DayOfWeek    7 non-null int64\n",
      "1            7 non-null int64\n",
      "2            7 non-null int64\n",
      "3            7 non-null int64\n",
      "4            7 non-null int64\n",
      "5            7 non-null int64\n",
      "6            7 non-null int64\n",
      "7            7 non-null int64\n",
      "8            7 non-null int64\n",
      "9            7 non-null int64\n",
      "10           7 non-null int64\n",
      "dtypes: int64(11)\n",
      "memory usage: 688.0 bytes\n"
     ]
    }
   ],
   "source": [
    "week.info()"
   ]
  },
  {
   "cell_type": "code",
   "execution_count": 19,
   "metadata": {
    "collapsed": false
   },
   "outputs": [
    {
     "data": {
      "image/png": "[encoded data removed]",
      "text/plain": [
       "<matplotlib.figure.Figure at 0x116609690>"
      ]
     },
     "metadata": {},
     "output_type": "display_data"
    }
   ],
   "source": [
    "for i in range(1, 11):\n",
    "    plt.plot(week[i])\n",
    "plt.show()"
   ]
  },
  {
   "cell_type": "code",
   "execution_count": null,
   "metadata": {
    "collapsed": true
   },
   "outputs": [],
   "source": []
  }
 ],
 "metadata": {
  "kernelspec": {
   "display_name": "Python [Root]",
   "language": "python",
   "name": "Python [Root]"
  },
  "language_info": {
   "codemirror_mode": {
    "name": "ipython",
    "version": 2
   },
   "file_extension": ".py",
   "mimetype": "text/x-python",
   "name": "python",
   "nbconvert_exporter": "python",
   "pygments_lexer": "ipython2",
   "version": "2.7.12"
  }
 },
 "nbformat": 4,
 "nbformat_minor": 0
}
