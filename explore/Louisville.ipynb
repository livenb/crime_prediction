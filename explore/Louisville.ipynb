{
 "cells": [
  {
   "cell_type": "code",
   "execution_count": 1,
   "metadata": {
    "collapsed": true
   },
   "outputs": [],
   "source": [
    "import pandas as pd"
   ]
  },
  {
   "cell_type": "code",
   "execution_count": 2,
   "metadata": {
    "collapsed": true
   },
   "outputs": [],
   "source": [
    "louisville = '../data/Louisville.csv'"
   ]
  },
  {
   "cell_type": "code",
   "execution_count": 3,
   "metadata": {
    "collapsed": false
   },
   "outputs": [
    {
     "name": "stderr",
     "output_type": "stream",
     "text": [
      "/Users/livenb/anaconda/lib/python2.7/site-packages/IPython/core/interactiveshell.py:2723: DtypeWarning: Columns (12) have mixed types. Specify dtype option on import or set low_memory=False.\n",
      "  interactivity=interactivity, compiler=compiler, result=result)\n"
     ]
    }
   ],
   "source": [
    "lodata = pd.read_csv(louisville)"
   ]
  },
  {
   "cell_type": "code",
   "execution_count": 4,
   "metadata": {
    "collapsed": false
   },
   "outputs": [
    {
     "name": "stdout",
     "output_type": "stream",
     "text": [
      "<class 'pandas.core.frame.DataFrame'>\n",
      "RangeIndex: 1139518 entries, 0 to 1139517\n",
      "Data columns (total 15 columns):\n",
      "INCIDENT_NUMBER    1139518 non-null object\n",
      "DATE_REPORTED      1139518 non-null object\n",
      "DATE_OCCURED       1139102 non-null object\n",
      "CRIME_TYPE         1139518 non-null object\n",
      "NIBRS_CODE         1139517 non-null object\n",
      "UCR_HIERARCHY      990615 non-null object\n",
      "ATT_COMP           1137405 non-null object\n",
      "LMPD_DIVISION      1139518 non-null object\n",
      "LMPD_BEAT          1132695 non-null object\n",
      "PREMISE_TYPE       1128766 non-null object\n",
      "BLOCK_ADDRESS      1139518 non-null object\n",
      "CITY               1135247 non-null object\n",
      "ZIP_CODE           1135238 non-null object\n",
      "ID                 1139518 non-null int64\n",
      "UOR_DESC           1139518 non-null object\n",
      "dtypes: int64(1), object(14)\n",
      "memory usage: 130.4+ MB\n"
     ]
    }
   ],
   "source": [
    "lodata.info()"
   ]
  },
  {
   "cell_type": "code",
   "execution_count": 21,
   "metadata": {
    "collapsed": false
   },
   "outputs": [
    {
     "data": {
      "text/html": [
       "<div>\n",
       "<table border=\"1\" class=\"dataframe\">\n",
       "  <thead>\n",
       "    <tr style=\"text-align: right;\">\n",
       "      <th></th>\n",
       "      <th>DATE_OCCURED</th>\n",
       "      <th>CRIME_TYPE</th>\n",
       "      <th>LMPD_DIVISION</th>\n",
       "      <th>BLOCK_ADDRESS</th>\n",
       "      <th>CITY</th>\n",
       "      <th>ZIP_CODE</th>\n",
       "      <th>UOR_DESC</th>\n",
       "      <th>CrimeCat</th>\n",
       "      <th>Year</th>\n",
       "      <th>Month</th>\n",
       "      <th>Day</th>\n",
       "      <th>Hour</th>\n",
       "      <th>DayOfWeek</th>\n",
       "    </tr>\n",
       "  </thead>\n",
       "  <tbody>\n",
       "    <tr>\n",
       "      <th>0</th>\n",
       "      <td>2010-09-18 11:30:00</td>\n",
       "      <td>THEFT/LARCENY</td>\n",
       "      <td>4TH DIVISION</td>\n",
       "      <td>1000 BLOCK HIGHLAND AVE                       ...</td>\n",
       "      <td>LVIL</td>\n",
       "      <td>40204</td>\n",
       "      <td>THEFT BY UNLAWFUL TAKING/DISP-ALL OTHERS -MISD</td>\n",
       "      <td>1</td>\n",
       "      <td>2010</td>\n",
       "      <td>9</td>\n",
       "      <td>18</td>\n",
       "      <td>11</td>\n",
       "      <td>6</td>\n",
       "    </tr>\n",
       "    <tr>\n",
       "      <th>1</th>\n",
       "      <td>2010-09-12 20:00:00</td>\n",
       "      <td>ROBBERY</td>\n",
       "      <td>6TH DIVISION</td>\n",
       "      <td>BELRAD DR / SEBREE LN                         ...</td>\n",
       "      <td>LOUISVILLE</td>\n",
       "      <td>40218</td>\n",
       "      <td>ROBBERY - 1ST DEGREE</td>\n",
       "      <td>2</td>\n",
       "      <td>2010</td>\n",
       "      <td>9</td>\n",
       "      <td>12</td>\n",
       "      <td>20</td>\n",
       "      <td>7</td>\n",
       "    </tr>\n",
       "    <tr>\n",
       "      <th>2</th>\n",
       "      <td>2010-09-18 14:15:00</td>\n",
       "      <td>THEFT/LARCENY</td>\n",
       "      <td>2ND DIVISION</td>\n",
       "      <td>4300 BLOCK CANE RUN RD                        ...</td>\n",
       "      <td>LVIL</td>\n",
       "      <td>40216</td>\n",
       "      <td>THEFT BY UNLAWFUL TAKING/DISP-SHOPLIFTING -MISD</td>\n",
       "      <td>1</td>\n",
       "      <td>2010</td>\n",
       "      <td>9</td>\n",
       "      <td>18</td>\n",
       "      <td>14</td>\n",
       "      <td>6</td>\n",
       "    </tr>\n",
       "    <tr>\n",
       "      <th>3</th>\n",
       "      <td>2010-09-12 12:00:00</td>\n",
       "      <td>THEFT/LARCENY</td>\n",
       "      <td>4TH DIVISION</td>\n",
       "      <td>4900 BLOCK HAZELWOOD AVE                      ...</td>\n",
       "      <td>LOUISVILLE</td>\n",
       "      <td>40214</td>\n",
       "      <td>THEFT BY UNLAWFUL TAKING/DISP-ALL OTHERS -MISD</td>\n",
       "      <td>1</td>\n",
       "      <td>2010</td>\n",
       "      <td>9</td>\n",
       "      <td>12</td>\n",
       "      <td>12</td>\n",
       "      <td>7</td>\n",
       "    </tr>\n",
       "    <tr>\n",
       "      <th>4</th>\n",
       "      <td>2010-08-27 22:22:00</td>\n",
       "      <td>DRUGS/ALCOHOL VIOLATIONS</td>\n",
       "      <td>6TH DIVISION</td>\n",
       "      <td>3300 BLOCK RADIANCE RD                        ...</td>\n",
       "      <td>LOUISVILLE</td>\n",
       "      <td>40220</td>\n",
       "      <td>POSS CONT SUB-1ST DEGREE-2ND OR &gt; OFFENSE-COCAINE</td>\n",
       "      <td>3</td>\n",
       "      <td>2010</td>\n",
       "      <td>8</td>\n",
       "      <td>27</td>\n",
       "      <td>22</td>\n",
       "      <td>5</td>\n",
       "    </tr>\n",
       "  </tbody>\n",
       "</table>\n",
       "</div>"
      ],
      "text/plain": [
       "         DATE_OCCURED                CRIME_TYPE LMPD_DIVISION  \\\n",
       "0 2010-09-18 11:30:00             THEFT/LARCENY  4TH DIVISION   \n",
       "1 2010-09-12 20:00:00                   ROBBERY  6TH DIVISION   \n",
       "2 2010-09-18 14:15:00             THEFT/LARCENY  2ND DIVISION   \n",
       "3 2010-09-12 12:00:00             THEFT/LARCENY  4TH DIVISION   \n",
       "4 2010-08-27 22:22:00  DRUGS/ALCOHOL VIOLATIONS  6TH DIVISION   \n",
       "\n",
       "                                       BLOCK_ADDRESS        CITY ZIP_CODE  \\\n",
       "0  1000 BLOCK HIGHLAND AVE                       ...        LVIL    40204   \n",
       "1  BELRAD DR / SEBREE LN                         ...  LOUISVILLE    40218   \n",
       "2  4300 BLOCK CANE RUN RD                        ...        LVIL    40216   \n",
       "3  4900 BLOCK HAZELWOOD AVE                      ...  LOUISVILLE    40214   \n",
       "4  3300 BLOCK RADIANCE RD                        ...  LOUISVILLE    40220   \n",
       "\n",
       "                                            UOR_DESC  CrimeCat  Year  Month  \\\n",
       "0     THEFT BY UNLAWFUL TAKING/DISP-ALL OTHERS -MISD         1  2010      9   \n",
       "1                               ROBBERY - 1ST DEGREE         2  2010      9   \n",
       "2    THEFT BY UNLAWFUL TAKING/DISP-SHOPLIFTING -MISD         1  2010      9   \n",
       "3     THEFT BY UNLAWFUL TAKING/DISP-ALL OTHERS -MISD         1  2010      9   \n",
       "4  POSS CONT SUB-1ST DEGREE-2ND OR > OFFENSE-COCAINE         3  2010      8   \n",
       "\n",
       "   Day  Hour  DayOfWeek  \n",
       "0   18    11          6  \n",
       "1   12    20          7  \n",
       "2   18    14          6  \n",
       "3   12    12          7  \n",
       "4   27    22          5  "
      ]
     },
     "execution_count": 21,
     "metadata": {},
     "output_type": "execute_result"
    }
   ],
   "source": [
    "lodata.head()"
   ]
  },
  {
   "cell_type": "code",
   "execution_count": 6,
   "metadata": {
    "collapsed": false
   },
   "outputs": [
    {
     "data": {
      "text/plain": [
       "(16,)"
      ]
     },
     "execution_count": 6,
     "metadata": {},
     "output_type": "execute_result"
    }
   ],
   "source": [
    "lodata['CRIME_TYPE'].unique().shape"
   ]
  },
  {
   "cell_type": "code",
   "execution_count": 7,
   "metadata": {
    "collapsed": false
   },
   "outputs": [
    {
     "data": {
      "text/plain": [
       "array(['THEFT/LARCENY', 'ROBBERY', 'DRUGS/ALCOHOL VIOLATIONS', 'ASSAULT',\n",
       "       'VEHICLE BREAK-IN/THEFT', 'VANDALISM', 'BURGLARY',\n",
       "       'MOTOR VEHICLE THEFT', 'OTHER', 'HOMICIDE', 'FRAUD',\n",
       "       'DISTURBING THE PEACE', 'SEX CRIMES', 'WEAPONS', 'DUI', 'ARSON'], dtype=object)"
      ]
     },
     "execution_count": 7,
     "metadata": {},
     "output_type": "execute_result"
    }
   ],
   "source": [
    "lodata['CRIME_TYPE'].unique()"
   ]
  },
  {
   "cell_type": "code",
   "execution_count": 8,
   "metadata": {
    "collapsed": false
   },
   "outputs": [
    {
     "data": {
      "text/plain": [
       "(256,)"
      ]
     },
     "execution_count": 8,
     "metadata": {},
     "output_type": "execute_result"
    }
   ],
   "source": [
    "lodata[lodata['CRIME_TYPE']=='DRUGS/ALCOHOL VIOLATIONS']['UOR_DESC'].unique().shape"
   ]
  },
  {
   "cell_type": "code",
   "execution_count": 9,
   "metadata": {
    "collapsed": false
   },
   "outputs": [
    {
     "data": {
      "text/plain": [
       "array(['POSS CONT SUB-1ST DEGREE-2ND OR > OFFENSE-COCAINE',\n",
       "       'POSS OF MARIJUANA', 'TRAF CONT SUB-1ST DEGREE-1ST OFFENSE-COCAINE',\n",
       "       'POSS CONT SUB-1ST DEGREE-1ST OFFENSE-LSD',\n",
       "       'POSS CONT SUB-1ST DEGREE-1ST OFFENSE-DRUG UNSPECIFIED',\n",
       "       'POSS CONT SUB-1ST DEGREE-1ST OFFENSE-COCAINE',\n",
       "       'DRUG PARAPHERNALIA - BUY/POSSESS',\n",
       "       'TRAF CONT SUB-1ST DEGREE-2ND OR > OFFENSE-COCAINE',\n",
       "       'TRAF IN MARIJUANA-LESS THAN 8 OZ-1ST OFFENSE',\n",
       "       'POSS CONT SUB-2ND DEGREE-1ST OFFENSE-DRUG UNSPECIFIED',\n",
       "       'POSS CONT SUB-3RD DEGREE-1ST OFFENSE-DRUG UNSPECIFIED',\n",
       "       'TRAF IN MARIJUANA-> 5 LBS-1ST OFFENSE',\n",
       "       'POSS CONT SUB-1ST DEGREE-2ND OR > OFFENSE-DRUG UNSPECIFIED',\n",
       "       'CULTIVATE IN MARIJUANA-< 5 PLANTS-1ST OFFENSE',\n",
       "       'TRAFFICKING IN CONT SUBSTANCE 1ST DEG 2ND OR > OFFENSE (METH',\n",
       "       'ALCOHOL INTOXICATION IN A PUBLIC PLACE-1ST & 2ND OFFENSES',\n",
       "       'DRUG PARAPHERNALIA - DELIVER/MANUFACTURE',\n",
       "       'TRAF CONT SUB WITHIN 1000 YRDS OF SCHOOL',\n",
       "       'TRAF CONT SUB-1ST DEGREE-1ST OFFENSE-DRUG UNSPECIFIED',\n",
       "       'POSS CONT SUB-1ST DEGREE-1ST OFFENSE-HEROIN',\n",
       "       'POSS A CONT SUB-1ST OFFENSE',\n",
       "       'POSS CONT SUB-3RD DEGREE-2ND OR > OFFENSE-DRUG UNSPECIFIED',\n",
       "       'TRAF CONT SUB-1ST DEGREE-1ST OFFENSE-HEROIN',\n",
       "       'TRAFFICKING IN CONTROLLED SUBSTANCE 1ST DEG 1ST OFFENSE (MET',\n",
       "       'TRAF CONT SUB-3RD DEGREE-1ST OFFENSE-DRUG UNSPECIFIED',\n",
       "       'TRAF CONT SUB-2ND DEGREE-1ST OFFENSE-DRUG UNSPECIFIED',\n",
       "       'POSS CONTROLLED SUB 1ST DEGREE 1ST OFF (METHAMPHETAMINE)',\n",
       "       'VOLATILE SUBSTANCE ABUSE',\n",
       "       'TRAF IN MARIJUANA-LESS THAN 8 OZ-2ND OR > OFFENSE',\n",
       "       'TRAF CONT SUB-1ST DEGREE-1ST OFFENSE-OPIATES',\n",
       "       'TRAF IN MARIJUANA-> 5 LBS-2ND OR > OFFENSE',\n",
       "       'DRUG PARAPHERNALIA ADVERTISEMENT',\n",
       "       'MANUFACTURING METHAMPHETAMINE 1ST OFFENSE',\n",
       "       'CULTIVATE IN MARIJUANA-5 PLANTS OR >-1ST OFFENSE',\n",
       "       'POSS CONT SUB-1ST DEGREE-2ND OR > OFFENSE-OPIATES',\n",
       "       'ILLEGAL POSSESSION OF A LEGEND DRUG 1ST OFFENSE',\n",
       "       'POSS CONT SUB-2ND DEGREE-1ST OFFENSE-AMPHETAMINE',\n",
       "       'POSSESSION OF FORGED PRESCRIPTION FOR LEGEND DRUG 1ST',\n",
       "       'TRAF IN CONT SUB-1ST OFFENSE',\n",
       "       'UNLAWFUL DISTRIBUTION OF A METH PRECURSOR - 1ST OFFENSE',\n",
       "       'UNLAWFUL POSSESSION OF METH PRECURSOR 1ST OFFENSE',\n",
       "       'POSSESSION OF SYNTHETIC CANNABINOID AGONISTS OR PIPEAZINES',\n",
       "       'ILLEGAL POSSESSION OF LEGEND DRUG',\n",
       "       'POSS CONT SUB-1ST DEGREE-1ST OFFENSE-OPIATES',\n",
       "       'TRAF IN MARIJUANA-8 OZ TO < 5 LBS-1ST OFFENSE',\n",
       "       'UNLAWFUL DISTRIBUTION OF A METH PRECURSOR - 2ND OR > OFFENSE',\n",
       "       'POSS CONT SUB-1ST DEGREE-2ND OR > OFFENSE-HEROIN',\n",
       "       'POSS CONT SUB-2ND DEGREE-1ST OFFENSE-HALLUCINOGEN',\n",
       "       'PRESCRIPTION CONT SUB NOT IN ORIGINAL CONTAINER-1ST OFFENSE',\n",
       "       'POSS CONT SUB-2ND DEGREE-2ND OR > OFFENSE-DRUG UNSPECIFIED',\n",
       "       'TRAF IN CONT SUB-2ND OR > OFFENSE',\n",
       "       'POSS CONT SUB-2ND DEGREE-1ST OFFENSE-CODEINE',\n",
       "       'TRAF CONT SUB-2ND DEGREE-1ST OFFENSE-AMPHETAMINE',\n",
       "       'MANUFACTURING METHAMPHETAMINE 2ND OR > OFFENSE',\n",
       "       'POSS CONT SUB-2ND DEGREE-1ST OFFENSE-BARBITUATE',\n",
       "       'POSS CONT SUB-2ND DEGREE-2ND OR > OFFENSE-CODEINE',\n",
       "       'POSS OF CONT SUBSTANCE - 1ST DEGREE - 2ND OR > (DATE RAPE DR',\n",
       "       'TRAF IN MARIJUANA-8 OZ TO < 5 LBS-2ND OR > OFFENSE',\n",
       "       'PUBLIC INTOXICATION CONTROLLED SUBSTANCE (EXCLUDES ALCOHOL)',\n",
       "       'POSSESSION OF SALVIA', 'TRAFFICKING IN SALVIA',\n",
       "       'POSS OF OPEN ALCOHOLIC BEVERAGE CONTAINER IN MTR VEH PROHIBI',\n",
       "       'POSS A CONT SUB- 2ND OR > OFFENSE',\n",
       "       'TRAFFICKING IN A LEGEND DRUG, 1ST OFFENSE',\n",
       "       'POSS CONT SUB-1ST DEGREE-1ST OFFENSE-PCP',\n",
       "       'TRAF CONT SUB-2ND DEGREE-2ND OR > OFFENSE-DRUG UNSPECIFIED',\n",
       "       'CULTIVATE IN MARIJUANA-< 5 PLANTS-2ND OR > OFFENSE',\n",
       "       'CULTIVATE IN MARIJUANA-5 PLANTS OR >-2ND OR > OFFENSE',\n",
       "       'POSS OF CONT SUBSTANCE - 1ST DEGREE - 1ST OFFENSE (DATE RAPE',\n",
       "       'TRAF CONT SUB-2ND DEGREE-1ST OFFENSE-BARBITUATE',\n",
       "       'TRAF CONT SUB-1ST DEGREE-2ND OR > OFFENSE-OPIATES',\n",
       "       'TRAF CONT SUB-1ST DEGREE-1ST OFFENSE-LSD',\n",
       "       'POSS CONT SUB-2ND DEGREE-2ND OR > OFFENSE-BARBITUATE',\n",
       "       'TRAF CONT SUB-1ST DEGREE-2ND OR > OFFENSE-DRUG UNSPECIFIED',\n",
       "       'POSS CONT SUB-1ST DEGREE-2ND OR > OFFENSE-PCP',\n",
       "       'POSS CONTROLLED SUB 1ST DEGREE 2ND> OFF (METHAMPHETAMINE)',\n",
       "       'TRAF CONT SUB-2ND DEGREE-1ST OFFENSE-ANABOLIC STEROID',\n",
       "       'TRAFF IN CONTROLLED SUB - 1ST DEG - 1ST OFFENSE (DATE RAPE D',\n",
       "       'POSS CONT SUB-2ND DEGREE-2ND OR > OFFENSE-HALLUCINOGEN',\n",
       "       'SALE OF VOLATILE SUB. TO PERSONS FOR UNLAWFUL INHA',\n",
       "       'TRAF CONT SUB-2ND DEGREE-1ST OFFENSE-HALLUCINOGEN',\n",
       "       'TRAF IN SYNTHETIC CANNABINOIL AGOINTS OR PIPEAZINES',\n",
       "       'TRAF CONT SUB-2ND DEGREE-1ST OFFENSE-CODEINE',\n",
       "       'SELL CONTROL SUBSTANCE TO A MINOR-2ND OR > OFFENSE',\n",
       "       'TRAF CONT SUB-1ST DEGREE-2ND OR > OFFENSE-HEROIN',\n",
       "       'TRAF CONT SUB-3RD DEGREE-2ND OR > OFFENSE-DRUG UNSPECIFIED',\n",
       "       'POSS A CONT SUB',\n",
       "       'TRAF CONT SUB-1ST DEG -1ST OFFN- (>= 10 DU DRUG UNSPECIFIED)',\n",
       "       'POSS CONT SUB-3RD DEGREE--DRUG UNSPECIFIED',\n",
       "       'TRAF CONT SUB-1ST DEG 2ND OR > OFFEN (>= 10 DU DRUG UNSPECIF',\n",
       "       'POSS CONTROLLED SUB 1ST DEGREE 2ND OFF (METHAMPHETAMINE)',\n",
       "       'TRAF CONT SUB-1ST DEG-2ND OR > OFF (>= 4 GRAMS COCAINE',\n",
       "       'TRAF CONT SUB-1ST DEG 1ST OFF (< 4 GRAMS COCAINE)',\n",
       "       'POSS CONT SUB-2ND DEGREE-DRUG UNSPECIFIED',\n",
       "       'POSS CONT SUB-1ST DEGREE-2ND OFFENSE-DRUG UNSPECIFIED',\n",
       "       'POSS CONT SUB 1ST DEGREE 3RD > OFFENSE-COCAINE',\n",
       "       'TRAF CONT SUB-3RD DEG -1ST OFF  (>= 20 DU DRUG UNSPECIFIED)',\n",
       "       'TRAF CONT SUB-1ST DEG-1ST OFFN (< 2 GRAMS HEROIN)',\n",
       "       'TRAF CONT SUB-1ST DEG 1ST OFF (>= 4 GRAMS COCAINE)',\n",
       "       'TRAF IN CONT SUBST 1ST DEG 1ST OFFENSE (>= 2 GMS METH',\n",
       "       'TRAF CONT SUB-1ST DEG 1ST OFF (>= 10 DU OPIATES)',\n",
       "       'TRAF CONT SUB-1ST DEG 1ST OFF (> OR = 10 DU OPIATES)',\n",
       "       'TRAF CONT SUB-1ST DEGREE-1ST OFFENSE-PCP',\n",
       "       'TRAF IN CONT SUBST 1ST DEG 1ST OFFENSE (< 2 GMS METH',\n",
       "       'POSS CONT SUB-2ND DEGREE-CODEINE',\n",
       "       'TRF CON SUB 2ND DEG 1ST OFN (<10 DU SCH I & II NON NA',\n",
       "       'TRF CON SUB 2ND DEG 1ST OFN (>= 20 DU DRUG UNSPEC SCH III',\n",
       "       'TRAF CONT SUB-1ST DEG 2ND OR > OFF  (>= 2 GRAMS HEROIN)',\n",
       "       'TRAF CONT SUB-1ST DEG 2ND OR > OFF (>= 10 DU OPIATES)',\n",
       "       'TRAF CONT SUB-3RD DEG 1ST OFF  (< 20 DU DRUG UNSPECIFIED)',\n",
       "       'POSS CONT SUB-2ND DEGREE--AMPHETAMINE',\n",
       "       'POSS CONT SUB-1ST DEGREE-3RD OR > OFFENSE-LSD',\n",
       "       'POSS CONT SUB-2ND DEGREE-ANABOLIC STEROID',\n",
       "       'POSS CONT SUB-1ST DEGREE 3RD OR > OFFENSE-OPIATES',\n",
       "       'TRF CON SUB 1ST DEG 2ND> OFN (< 10 DU DRUG UNSPEC SCH I & II',\n",
       "       'TRF CON SUB 2ND DEG 2ND OR > OFN (< 10 DU SCH I & II NON NAR',\n",
       "       'TRAF CONT SUB-1ST DEG-1ST OFFN (>= 2 GRAMS HEROIN)',\n",
       "       'CONTROLLED SUBSTANCE ENDANGERMENT TO CHILD 1ST DEGREE',\n",
       "       'TRAF CONT SUB-3RD DEG 2ND > OFF  (>= 20 DU DRUG UNSPECIFIED)',\n",
       "       'TRAF CONT SUB-1ST DEG 2ND OR > OFF (< 10 DU OPIATES)',\n",
       "       'POSS CONT SUB-1ST DEGREE-3RD OR > OFFENSE-DRUG UNSPECIFIED',\n",
       "       'POSS CONT SUB-1ST DEGREE-2ND OFFENSE-COCAINE',\n",
       "       'TRAF CONT SUB-2ND DEGREE-1ST OFF (< 10 DU CODEINE)',\n",
       "       'POSS CONT SUB-1ST DEGREE-2ND  OFFENSE-HEROIN',\n",
       "       'TRAF CONT SUB-2ND DEG 1ST OFFN (>= 10 DU AMPHETAMINE)',\n",
       "       'TRAF CONT SUB 2ND DEG 1ST OFFN (>= 10 DU HALLUCINOGEN',\n",
       "       'TRF CON SUB 2ND DEG 1ST OFN (< 10 DU SCH I & II NON NARC)',\n",
       "       'POSS CONT SUB-2ND DEGREE-  HALLUCINOGEN',\n",
       "       'TRF CON SUB 2ND DEG 1ST OFN (< 20 DU DRUG UNSPEC SCH III',\n",
       "       'POSS CONT SUB-1ST DEGREE-2ND OFFENSE-OPIATES',\n",
       "       'TRAF CONT SUB-2ND DEG 2ND OR > OFFN (>= 10 DU HALLUCINOGEN',\n",
       "       'TRAF CONT SUB-2ND DEGREE-2ND OR > OFFENSE-ANABOLIC STEROID',\n",
       "       'TRAF CONT SUB-1ST DEG-2ND OR > OFF (< 4 GRAMS COCAINE',\n",
       "       'TRF CON SUB 2ND DEG 2ND > OFN (< 20 DU DRUG UNSPEC SCH III',\n",
       "       'POSS CONT SUB-2ND DEGREE--BARBITUATE',\n",
       "       'TRAF CONT SUB-3RD DEG 2ND OR > OFFN (< 20 DU DRUG UNSPECIFI',\n",
       "       'POSS CONTROLLED SUB 1ST DEGREE 3RD > (METHAMPHETAMINE)',\n",
       "       'POSS CONT SUB-1ST DEGREE-2ND OFFENSE-LSD',\n",
       "       'SERVING BENCH WARRANT FOR COURT',\n",
       "       'TRAF CONT SUB 2ND DEG 1ST OFFN (<10 DU HALLUCINOGEN',\n",
       "       'POSS OF  3,4-METHYLENE DIOXYPYROVALERONE',\n",
       "       'TRAF CONT SUB-2ND DEG1ST OFFN (>= 20 DU BARBITUATE',\n",
       "       'POSS CONT SUB-1ST DEGREE-2ND OFFENSE-PCP',\n",
       "       'TRAF N CONT SUB 1ST DEGREE  1ST OR > (< 10 DU DATE RAPE DRG)',\n",
       "       'TRAF CONT SUB-2ND DEG 1ST OFFN (< 10 DU AMPHETAMINE)',\n",
       "       'POSS OF 3,4-METHYLENEDIOXYPYROVALERONE',\n",
       "       'POSS CONT SUB-1ST DEGREE 3RD > OFFENSE-PCP',\n",
       "       'POSS FOR SALE/TRANSFER SIMULATED CONT SUB-1ST OFFENSE',\n",
       "       'TRAF IN CONT SUBST 1ST DEG 2ND OR > OFFENSE  <= 2 GMS METH',\n",
       "       'UNLAWFUL POSSESSION OF METH PRECURSOR 2ND OR > OFFENSE',\n",
       "       'TRAF CONT SUB-2ND DEGREE-2ND OR > OFF (>= 10 DU CODEINE)',\n",
       "       'MANUFACTURE OF SYNTHETIC CANNABINOID AGONISTS OR PIPEZINES',\n",
       "       'POSS OF NAPTHYLPROVALERONE',\n",
       "       'POSS CONT SUB-1ST DEGREE-3RD OR > OFFENSE-HEROIN',\n",
       "       'TRAF CONT SUB-1ST DEG 2ND OR > OFF  (< 2 GRAMS HEROIN)',\n",
       "       'TRAF CONT SUB-1ST DEGREE-2ND OR > OFFENSE-PCP',\n",
       "       'TRAF CONT SUB-2ND DEGREE-1ST OFF ( >= 10 DU CODEINE)',\n",
       "       'TRF CON SUB 2ND DEG 2ND > OFN (>= 20 DU DRUG UNSPEC SCH III',\n",
       "       'POSS OF CONT SUBSTANCE - 1ST DEGREE - 2ND OFFN (DATE RAPE DR',\n",
       "       'TRAF CONT SUB-1ST DEGREE-2ND OR > OFFENSE-LSD',\n",
       "       'TRAF CONT SUB-2ND DEGREE-2ND OR > OFF (< 10 DU CODEINE)',\n",
       "       'TRAF CONT SUB-2ND DEG 2ND OR > OFFN (< 10 DU HALLUCINOGEN',\n",
       "       'TRAF N CONT SUB 1ST DEGREE  1ST OR > (>= 10 DU DATE RAPE',\n",
       "       'TRAF CONT SUB-2ND DEG1ST OFFN (< 20 DU BARBITUATE',\n",
       "       'TRAF CONT SUB-2ND DEG 2ND OR > OFFN (>= 10 DU AMPHETAMINE',\n",
       "       'SELL CONTROL SUBSTANCE TO A MINOR-1ST OFFENSE',\n",
       "       'TRAF IN CONT SUBST 1ST DEG 2ND OR > OFFENSE  < 2 GRAMS METH',\n",
       "       'TRAFFICKING IN A LEGEND DRUG 2ND OR > OFFENSE',\n",
       "       'TRAF IN 3,4-METHYLENE DIOXYPYROVALERONE',\n",
       "       'POSSESSION  OF SYNTHETIC DRUGS',\n",
       "       'PERSON 18-20 POSS/PURCH/ATT PURCH/ HAVE ANOTHER PURCH ALCOHL',\n",
       "       'TRAF N CONT SUB 1ST DEGREE  2ND OR > (< 10 DU DATE RAPE DRG',\n",
       "       'TRAF IN SYNTHETIC DRUGS 1ST OFFENSE',\n",
       "       'TRAF IN SYNTHETIC DRUGS 2ND OR > OFFENSE',\n",
       "       'POSS/MANUFACTURE/ETC CONTERFEIT SUB-',\n",
       "       'ALCOHOL INTOX IN PUBLIC PLACE-3RD OR > OFF W/12 MONTHS',\n",
       "       'TRF CON SUB 2ND DEG 1ST OFN (>= 10 DU SCH I & II NON NARC)',\n",
       "       'RETAIL PREMISES WHO HAVE LIQUOR LIC NOT DISORDERLY - 1ST OFF',\n",
       "       'SERVING ALCOHOLIC BEVERAGES TO MINORS - 1ST OFFENSE',\n",
       "       'POSSESSION OF ALCOHOLIC BEVERAGES BY A MINOR',\n",
       "       'TRAF CONT SUB-2ND DEG 2ND OR > OFFN (>= 20 DU BARBITUATE',\n",
       "       'TRAF CONT SUB-3RD DEG 2ND OR > OFFN (>= 20 DU DRUG UNSPECIFI',\n",
       "       'MANU 3,4-METHYLENE DIOXYPYROVALERONE',\n",
       "       'TRF CON SUB 2ND DEG 2ND OR > OFN (>= 10 DU SCH I & II NON NA',\n",
       "       'PROH POSS LOADED GUN IN RM WHERE ALC BEV SOLD 1ST OFF',\n",
       "       'TRAF CONT SUB-1ST DEG 1ST OFF (<  10 DU OPIATES)',\n",
       "       'DISPENSE/PRESCRIBE/ADMINISTER CONT SUB-1ST OFFENSE',\n",
       "       'DRINKING ALCOHOLIC BEV IN PUBLIC PLACE-1ST & 2ND OFFENSES',\n",
       "       'MANUFACTURING 4 - METHYLMETHCATHINONE',\n",
       "       'UNLAWFULLY DISPENSING A LEGEND DRUG W/O LICENSE 1ST OFFENSE',\n",
       "       'TRAF CONT SUB-2ND DEG 2ND OR > OFFN (< 20 DU BARBITUATE',\n",
       "       'TRAF CONT SUB-1ST DEG-1ST OFF-HEROIN (>= 2GMS BUT < 100G)',\n",
       "       'TRAF N CONT SUB 3RD DEG,1ST OFF(>OR=20 BUT<OR=120 DU DRUG UN',\n",
       "       'TRAFFICKING/TRANSFERRING IN DIETARY SUPPLEMENT 1ST OFFENSE',\n",
       "       'AGG TRAF IN CONT SUB, 1ST DEG (> OR = 100 GMS HEROIN)',\n",
       "       'IMPORTING HEROIN',\n",
       "       'TRAF IN CONT SUB, 3RD DEG, 1ST OFF (>120 DU DRUG UNSPECIFIED',\n",
       "       'POSS OF CONT SUBSTANCE - 1ST DEGREE -3RD > (DATE RAPE DRUG',\n",
       "       'DRUG PARAPHERNALIA-BUY/POSSESS-1ST OFFENSE',\n",
       "       'THEFT OF A LEGEND DRUG 1ST OFFENSE OR VALUE < THAN $300',\n",
       "       'TERRORISTIC THREATENING 3RD DEGREE',\n",
       "       'DRUG PARAPHERNALIA-BUY/POSSESS-2ND OR > OFFENSE',\n",
       "       'MANUFACTURING METHAMPHETAMINE - 1ST OFFENSE',\n",
       "       'MANUFACTURING METHAMPHETAMINE  2ND OR > OFFENSE',\n",
       "       'AFFIX FALSE LABEL TO PACKAGE CONTAIN CONT SUB-1ST OFFENSE',\n",
       "       'UNLAWFUL POSSESSION OF METH PRECURSOR - 1ST OFFENSE',\n",
       "       'DRUG PARAPHERNALIA-ADVERTISEMENT-1ST OFFENSE',\n",
       "       'DRUG PARAPHERNALIA-ADVERTISEMENT-2ND OR > OFFENSE',\n",
       "       'POSS CONT SUB-1ST DEGREE-2ND OR > OFFENSE-LSD',\n",
       "       'ASSUME FALSE TITLE TO OBTAIN CONT SUB-1ST OFFENSE',\n",
       "       'DRUG PARAPHERNALIA-DELIVER/MANUFACTURE-1ST OFFENSE',\n",
       "       'POSS CONT SUB-2ND DEGREE-2ND OR > OFFENSE-AMPHETAMINE',\n",
       "       'ATTEMPT/OBTAIN CONT SUB BY FRAUD/FALSE STMT/FORGERY-1ST OFF',\n",
       "       'TRAF CONT SUB-2ND DEGREE-2ND OR > OFFENSE-CODEINE',\n",
       "       'SELL/TRANSFER SIMULATED CONTROLLED SUBSTANCE-1ST OFFENSE',\n",
       "       'ACQUIRE PROP/ENTERPRISE FROM INCOME FROM TRAF IN CONT SUB',\n",
       "       'TRAF CONT SUB-2ND DEGREE-2ND OR > OFFENSE-AMPHETAMINE',\n",
       "       'ASSUME FALSE TITLE TO OBTAIN CONT SUB-2ND OR > OFFENSE',\n",
       "       'PROMOTING CONTRABAND-1ST DEGREE',\n",
       "       'DRUG PARAPHERNALIA-DELIVER/MANUFACTURE-2ND OR > OFFENSE',\n",
       "       '18 YR OLD STOCK/ARRANGE/SELL ALCOHOL W/O SUPERVISION 1ST OFF',\n",
       "       'ILLEGAL TRANSPORT/DELIVERY ALC BEV, DRY TERRITORY-1ST OFF',\n",
       "       'CONSPIRACY TO TRAFF IN CONTROL SUB 3RD DEG 1ST OFF',\n",
       "       'POSS FOR SALE/TRANS SUB REPRESENTED AS CONT SUB-1ST OFF',\n",
       "       'POSS CONT SUB-2ND DEGREE-1ST OFFENSE-ANABOLIC STEROID',\n",
       "       'AFFIX FALSE LABEL TO PACKAGE CONTAIN CONT SUB-2ND OR > OFF',\n",
       "       'DRINKING ALCOHOL IN PUBLIC PLACE-3RD OR > OFF W/12 MONTHS',\n",
       "       'OPER NON-MOTOR VEH UNDER INFLUENCE OF INTOXICANTS',\n",
       "       'TRAF CONT SUB-2ND DEGREE-2ND OR > OFFENSE-HALLUCINOGEN',\n",
       "       'KNOW POSS ANHYDROUS AMMONIA/NOT APPROVED CONTAIN W/INT MANUF',\n",
       "       'TAMPERING W/ANHYDROUS AMMONIA W/INTENT TO MANUF METH 1ST OFF',\n",
       "       'POSS/MANUFACTURE/ETC CONTERFEIT SUB-1ST OFFENSE',\n",
       "       'UNAUTHORIZED PROCUREMENT OF CONT SUB, 1ST OFFENSE',\n",
       "       'CONSPIRACY TO TRAFF IN CONTROLLED SUB - 1ST DEGREE - 1ST OFF',\n",
       "       'TAMPERING WITH PHYSICAL EVIDENCE',\n",
       "       'CONSPIRACY TO TRAFF IN CONT SUB - 1ST  DEGREE - 2ND OR > OFF',\n",
       "       'OPEN/DRINKING ALCOHOL ON PACKAGE LIC PREMISE 1ST OFFENSE',\n",
       "       'TAMPERING WITH ANHYDROUS AMMONIA',\n",
       "       'CONTROLLED SUBSTANCE ENDANGERMENT TO CHILD 4TH DEGREE',\n",
       "       'TRAF CONT SUB-2ND DEGREE-2ND OR > OFFENSE-BARBITUATE',\n",
       "       'CONTROLLED SUBSTANCE ENDANGERMENT TO CHILD 3RD DEGREE',\n",
       "       'UNAUTHORIZED PROCUREMENT OF CONT SUB, 2ND OR >OFF',\n",
       "       'VIOL LIC REQ FOR DISTILLED SPIRIT/WINE 2ND OR > OFFENSE',\n",
       "       'TRAFF IN CONT SUB - 1ST DEGREE - 2ND OR > (DATE RAPE DRUG)',\n",
       "       'PACKAGE LIQ RETAILER PROPER LABEL/FEDERAL TAX STAMP - 1ST OF',\n",
       "       'POSSESSION OF FORGED PRESCRIPTION FOR LEGEND DRUG 2ND OR > O',\n",
       "       'WRONGFULLY FILLING PRESCRIIPTION 1ST OFFENSE',\n",
       "       'ILLEGAL POSSESSION OF A LEGEND DRUG 2ND OR > OFFENSE',\n",
       "       'DISPENSE/PRESCRIBE/ADMINISTER CONT SUB-2ND OR > OFFENSE',\n",
       "       'UNLICENSE MANUF/SALE/STORE/PURCHASE/TRANS ALC BEV 1ST OFF',\n",
       "       'RETAIL PREMISE WHO HAVE LIQ LIC NOT DISORDERLY 2ND OR > OFF',\n",
       "       'SELLING ALCOHOLIC BEVERAGES TO MINORS - 1ST OFFENSE',\n",
       "       'ILLEGAL SALE/GIVE ALCOHOL, DRY TERRITORY-1ST OFFENSE',\n",
       "       'LIQ LICENSEE TO KEEP RECORDS 2ND OR > OFFENSE',\n",
       "       'MINOR ENTERING PREMISE FOR THE PURCHASE OF ALCOHOL',\n",
       "       'POSS CONT SUB-2ND DEGREE-2ND OR > OFFENSE-ANABOLIC STEROID'], dtype=object)"
      ]
     },
     "execution_count": 9,
     "metadata": {},
     "output_type": "execute_result"
    }
   ],
   "source": [
    "lodata[lodata['CRIME_TYPE']=='DRUGS/ALCOHOL VIOLATIONS']['UOR_DESC'].unique()"
   ]
  },
  {
   "cell_type": "code",
   "execution_count": 10,
   "metadata": {
    "collapsed": false,
    "scrolled": true
   },
   "outputs": [
    {
     "data": {
      "text/plain": [
       "array(['THEFT/LARCENY', 'ROBBERY', 'DRUGS/ALCOHOL VIOLATIONS', 'ASSAULT',\n",
       "       'VEHICLE BREAK-IN/THEFT', 'VANDALISM', 'BURGLARY',\n",
       "       'MOTOR VEHICLE THEFT', 'OTHER', 'HOMICIDE', 'FRAUD',\n",
       "       'DISTURBING THE PEACE', 'SEX CRIMES', 'WEAPONS', 'DUI', 'ARSON'], dtype=object)"
      ]
     },
     "execution_count": 10,
     "metadata": {},
     "output_type": "execute_result"
    }
   ],
   "source": [
    "lodata['CRIME_TYPE'].unique()"
   ]
  },
  {
   "cell_type": "code",
   "execution_count": 11,
   "metadata": {
    "collapsed": true
   },
   "outputs": [],
   "source": [
    "lvDict = {1: ['THEFT/LARCENY', 'VEHICLE BREAK-IN/THEFT'],\n",
    "          2: ['ROBBERY'],\n",
    "          3: ['DRUGS/ALCOHOL VIOLATIONS'],\n",
    "          4: ['ASSAULT'],\n",
    "          5: ['MOTOR VEHICLE THEFT'],\n",
    "          6: ['VANDALISM'],\n",
    "          7: ['BURGLARY'],\n",
    "          8: ['HOMICIDE'],\n",
    "          9: ['SEX CRIMES'],\n",
    "          10: ['DUI']}"
   ]
  },
  {
   "cell_type": "code",
   "execution_count": 12,
   "metadata": {
    "collapsed": true
   },
   "outputs": [],
   "source": [
    "def get_crime_cat(df, catname, cDict):\n",
    "    df['CrimeCat'] = 0\n",
    "    for key in cDict:\n",
    "        crimes = cDict[key]\n",
    "        df['CrimeCat'] += df[catname].apply(lambda x:\n",
    "                                            key if x in crimes else 0)\n",
    "    df = df.drop(df[df['CrimeCat'] == 0].index)\n",
    "    return df"
   ]
  },
  {
   "cell_type": "code",
   "execution_count": 13,
   "metadata": {
    "collapsed": false
   },
   "outputs": [],
   "source": [
    "lodata = get_crime_cat(lodata, 'CRIME_TYPE', lvDict)"
   ]
  },
  {
   "cell_type": "code",
   "execution_count": 14,
   "metadata": {
    "collapsed": false
   },
   "outputs": [],
   "source": [
    "lodata['DATE_OCCURED'] = pd.to_datetime(lodata['DATE_OCCURED'])"
   ]
  },
  {
   "cell_type": "code",
   "execution_count": 15,
   "metadata": {
    "collapsed": false
   },
   "outputs": [],
   "source": [
    "dropLst = ['INCIDENT_NUMBER', 'DATE_REPORTED', 'NIBRS_CODE', 'UCR_HIERARCHY',\n",
    "           'ATT_COMP', 'LMPD_BEAT', 'PREMISE_TYPE', 'ID']\n",
    "lodata = lodata.drop(dropLst, axis=1)"
   ]
  },
  {
   "cell_type": "code",
   "execution_count": 16,
   "metadata": {
    "collapsed": false
   },
   "outputs": [],
   "source": [
    "lodata = lodata.dropna()"
   ]
  },
  {
   "cell_type": "code",
   "execution_count": 23,
   "metadata": {
    "collapsed": false
   },
   "outputs": [
    {
     "name": "stdout",
     "output_type": "stream",
     "text": [
      "<class 'pandas.core.frame.DataFrame'>\n",
      "Int64Index: 809491 entries, 0 to 1139517\n",
      "Data columns (total 11 columns):\n",
      "CRIME_TYPE       809491 non-null object\n",
      "LMPD_DIVISION    809491 non-null object\n",
      "BLOCK_ADDRESS    809491 non-null object\n",
      "ZIP_CODE         809491 non-null object\n",
      "UOR_DESC         809491 non-null object\n",
      "CrimeCat         809491 non-null int64\n",
      "Year             809491 non-null int64\n",
      "Month            809491 non-null int64\n",
      "Day              809491 non-null int64\n",
      "Hour             809491 non-null int64\n",
      "DayOfWeek        809491 non-null int64\n",
      "dtypes: int64(6), object(5)\n",
      "memory usage: 74.1+ MB\n"
     ]
    }
   ],
   "source": [
    "lodata.info()"
   ]
  },
  {
   "cell_type": "code",
   "execution_count": 20,
   "metadata": {
    "collapsed": false
   },
   "outputs": [],
   "source": [
    "lodata['Year'] = lodata['DATE_OCCURED'].apply(lambda x: x.year)\n",
    "lodata['Month'] = lodata['DATE_OCCURED'].apply(lambda x: x.month)\n",
    "lodata['Day'] = lodata['DATE_OCCURED'].apply(lambda x: x.day)\n",
    "lodata['Hour'] = lodata['DATE_OCCURED'].apply(lambda x: x.hour)\n",
    "lodata['DayOfWeek'] = lodata['DATE_OCCURED'].apply(lambda x: x.isoweekday())"
   ]
  },
  {
   "cell_type": "code",
   "execution_count": 22,
   "metadata": {
    "collapsed": false
   },
   "outputs": [],
   "source": [
    "dropLst2 = ['CITY', 'DATE_OCCURED']\n",
    "lodata = lodata.drop(dropLst2, axis=1)"
   ]
  },
  {
   "cell_type": "code",
   "execution_count": 24,
   "metadata": {
    "collapsed": true
   },
   "outputs": [],
   "source": [
    "lodata.to_csv('../data/lvpd_clean.csv')"
   ]
  },
  {
   "cell_type": "code",
   "execution_count": null,
   "metadata": {
    "collapsed": true
   },
   "outputs": [],
   "source": []
  }
 ],
 "metadata": {
  "anaconda-cloud": {},
  "kernelspec": {
   "display_name": "Python [Root]",
   "language": "python",
   "name": "Python [Root]"
  },
  "language_info": {
   "codemirror_mode": {
    "name": "ipython",
    "version": 2
   },
   "file_extension": ".py",
   "mimetype": "text/x-python",
   "name": "python",
   "nbconvert_exporter": "python",
   "pygments_lexer": "ipython2",
   "version": "2.7.12"
  }
 },
 "nbformat": 4,
 "nbformat_minor": 0
}
