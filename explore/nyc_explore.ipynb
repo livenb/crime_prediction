{
 "cells": [
  {
   "cell_type": "code",
   "execution_count": 1,
   "metadata": {
    "collapsed": true
   },
   "outputs": [],
   "source": [
    "import pandas as pd"
   ]
  },
  {
   "cell_type": "code",
   "execution_count": 4,
   "metadata": {
    "collapsed": true
   },
   "outputs": [],
   "source": [
    "nycfile = '../data/NYPD.csv'"
   ]
  },
  {
   "cell_type": "code",
   "execution_count": 5,
   "metadata": {
    "collapsed": false
   },
   "outputs": [],
   "source": [
    "nycdata = pd.read_csv(nycfile)"
   ]
  },
  {
   "cell_type": "code",
   "execution_count": 6,
   "metadata": {
    "collapsed": false
   },
   "outputs": [
    {
     "name": "stdout",
     "output_type": "stream",
     "text": [
      "<class 'pandas.core.frame.DataFrame'>\n",
      "RangeIndex: 1123465 entries, 0 to 1123464\n",
      "Data columns (total 20 columns):\n",
      "OBJECTID                  1123464 non-null float64\n",
      "Identifier                1123465 non-null object\n",
      "Occurrence Date           1123222 non-null object\n",
      "Day of Week               1123291 non-null object\n",
      "Occurrence Month          1123291 non-null object\n",
      "Occurrence Day            1123291 non-null float64\n",
      "Occurrence Year           1123221 non-null float64\n",
      "Occurrence Hour           1123222 non-null float64\n",
      "CompStat Month            1123463 non-null float64\n",
      "CompStat Day              1123463 non-null float64\n",
      "CompStat Year             1123463 non-null float64\n",
      "Offense                   1123464 non-null object\n",
      "Offense Classification    1123464 non-null object\n",
      "Sector                    1098137 non-null object\n",
      "Precinct                  1123443 non-null float64\n",
      "Borough                   1123384 non-null object\n",
      "Jurisdiction              1123463 non-null object\n",
      "XCoordinate               1123464 non-null float64\n",
      "YCoordinate               1123464 non-null float64\n",
      "Location 1                1123464 non-null object\n",
      "dtypes: float64(10), object(10)\n",
      "memory usage: 171.4+ MB\n"
     ]
    }
   ],
   "source": [
    "nycdata.info()"
   ]
  },
  {
   "cell_type": "code",
   "execution_count": 7,
   "metadata": {
    "collapsed": false
   },
   "outputs": [
    {
     "data": {
      "text/plain": [
       "array(['BURGLARY', 'GRAND LARCENY', 'GRAND LARCENY OF MOTOR VEHICLE',\n",
       "       'RAPE', 'ROBBERY', 'FELONY ASSAULT',\n",
       "       'MURDER & NON-NEGL. MANSLAUGHTE', nan], dtype=object)"
      ]
     },
     "execution_count": 7,
     "metadata": {},
     "output_type": "execute_result"
    }
   ],
   "source": [
    "nycdata['Offense'].unique()"
   ]
  },
  {
   "cell_type": "code",
   "execution_count": 8,
   "metadata": {
    "collapsed": false
   },
   "outputs": [
    {
     "data": {
      "text/plain": [
       "array(['FELONY', nan], dtype=object)"
      ]
     },
     "execution_count": 8,
     "metadata": {},
     "output_type": "execute_result"
    }
   ],
   "source": [
    "nycdata['Offense Classification'].unique()"
   ]
  },
  {
   "cell_type": "code",
   "execution_count": 11,
   "metadata": {
    "collapsed": false
   },
   "outputs": [
    {
     "ename": "NameError",
     "evalue": "name 'nan' is not defined",
     "output_type": "error",
     "traceback": [
      "\u001b[0;31m---------------------------------------------------------------\u001b[0m",
      "\u001b[0;31mNameError\u001b[0m                     Traceback (most recent call last)",
      "\u001b[0;32m<ipython-input-11-ea898b10868c>\u001b[0m in \u001b[0;36m<module>\u001b[0;34m()\u001b[0m\n\u001b[0;32m----> 1\u001b[0;31m \u001b[0mnycdata\u001b[0m\u001b[0;34m[\u001b[0m\u001b[0;34m'Offense'\u001b[0m\u001b[0;34m]\u001b[0m\u001b[0;34m==\u001b[0m\u001b[0mnan\u001b[0m\u001b[0;34m\u001b[0m\u001b[0m\n\u001b[0m",
      "\u001b[0;31mNameError\u001b[0m: name 'nan' is not defined"
     ]
    }
   ],
   "source": [
    "nycDict = {1: ['GRAND LARCENY'],\n",
    "           2: ['ROBBERY'],\n",
    "           4: ['FELONY ASSAULT'],\n",
    "           5: ['GRAND LARCENY OF MOTOR VEHICLE'],\n",
    "           7: ['BURGLARY'],\n",
    "           8: ['MURDER & NON-NEGL. MANSLAUGHTE'],\n",
    "           9: ['RAPE']}"
   ]
  },
  {
   "cell_type": "code",
   "execution_count": null,
   "metadata": {
    "collapsed": true
   },
   "outputs": [],
   "source": []
  }
 ],
 "metadata": {
  "kernelspec": {
   "display_name": "Python [Root]",
   "language": "python",
   "name": "Python [Root]"
  },
  "language_info": {
   "codemirror_mode": {
    "name": "ipython",
    "version": 2
   },
   "file_extension": ".py",
   "mimetype": "text/x-python",
   "name": "python",
   "nbconvert_exporter": "python",
   "pygments_lexer": "ipython2",
   "version": "2.7.12"
  }
 },
 "nbformat": 4,
 "nbformat_minor": 0
}
