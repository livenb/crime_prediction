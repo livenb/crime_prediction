{
 "cells": [
  {
   "cell_type": "code",
   "execution_count": 1,
   "metadata": {
    "collapsed": true
   },
   "outputs": [],
   "source": [
    "import pandas as pd"
   ]
  },
  {
   "cell_type": "code",
   "execution_count": 2,
   "metadata": {
    "collapsed": true
   },
   "outputs": [],
   "source": [
    "philadelphiafile = '../data/PPD.csv'"
   ]
  },
  {
   "cell_type": "code",
   "execution_count": 3,
   "metadata": {
    "collapsed": false
   },
   "outputs": [],
   "source": [
    "ppd = pd.read_csv(philadelphiafile)"
   ]
  },
  {
   "cell_type": "code",
   "execution_count": 4,
   "metadata": {
    "collapsed": false
   },
   "outputs": [
    {
     "name": "stdout",
     "output_type": "stream",
     "text": [
      "<class 'pandas.core.frame.DataFrame'>\n",
      "RangeIndex: 2133072 entries, 0 to 2133071\n",
      "Data columns (total 12 columns):\n",
      "DC_DIST               int64\n",
      "PSA                   object\n",
      "DISPATCH_DATE_TIME    object\n",
      "DISPATCH_DATE         object\n",
      "DISPATCH_TIME         object\n",
      "HOUR_                 int64\n",
      "DC_KEY                int64\n",
      "LOCATION_BLOCK        object\n",
      "UCR_GENERAL           float64\n",
      "TEXT_GENERAL_CODE     object\n",
      "SHAPE                 object\n",
      "Police Districts      float64\n",
      "dtypes: float64(2), int64(3), object(7)\n",
      "memory usage: 195.3+ MB\n"
     ]
    }
   ],
   "source": [
    "ppd.info()"
   ]
  },
  {
   "cell_type": "code",
   "execution_count": 5,
   "metadata": {
    "collapsed": false
   },
   "outputs": [
    {
     "data": {
      "text/html": [
       "<div>\n",
       "<table border=\"1\" class=\"dataframe\">\n",
       "  <thead>\n",
       "    <tr style=\"text-align: right;\">\n",
       "      <th></th>\n",
       "      <th>DC_DIST</th>\n",
       "      <th>PSA</th>\n",
       "      <th>DISPATCH_DATE_TIME</th>\n",
       "      <th>DISPATCH_DATE</th>\n",
       "      <th>DISPATCH_TIME</th>\n",
       "      <th>HOUR_</th>\n",
       "      <th>DC_KEY</th>\n",
       "      <th>LOCATION_BLOCK</th>\n",
       "      <th>UCR_GENERAL</th>\n",
       "      <th>TEXT_GENERAL_CODE</th>\n",
       "      <th>SHAPE</th>\n",
       "      <th>Police Districts</th>\n",
       "    </tr>\n",
       "  </thead>\n",
       "  <tbody>\n",
       "    <tr>\n",
       "      <th>0</th>\n",
       "      <td>18</td>\n",
       "      <td>3</td>\n",
       "      <td>10/02/2009 02:24:00 PM</td>\n",
       "      <td>2009-10-02</td>\n",
       "      <td>14:24:00</td>\n",
       "      <td>14</td>\n",
       "      <td>200918067518</td>\n",
       "      <td>S 38TH ST  / MARKETUT ST</td>\n",
       "      <td>800.0</td>\n",
       "      <td>Other Assaults</td>\n",
       "      <td>NaN</td>\n",
       "      <td>NaN</td>\n",
       "    </tr>\n",
       "    <tr>\n",
       "      <th>1</th>\n",
       "      <td>14</td>\n",
       "      <td>1</td>\n",
       "      <td>05/10/2009 12:55:00 AM</td>\n",
       "      <td>2009-05-10</td>\n",
       "      <td>00:55:00</td>\n",
       "      <td>0</td>\n",
       "      <td>200914033994</td>\n",
       "      <td>8500 BLOCK MITCH</td>\n",
       "      <td>2600.0</td>\n",
       "      <td>All Other Offenses</td>\n",
       "      <td>NaN</td>\n",
       "      <td>NaN</td>\n",
       "    </tr>\n",
       "    <tr>\n",
       "      <th>2</th>\n",
       "      <td>25</td>\n",
       "      <td>J</td>\n",
       "      <td>08/07/2009 03:40:00 PM</td>\n",
       "      <td>2009-08-07</td>\n",
       "      <td>15:40:00</td>\n",
       "      <td>15</td>\n",
       "      <td>200925083199</td>\n",
       "      <td>6TH CAMBRIA</td>\n",
       "      <td>800.0</td>\n",
       "      <td>Other Assaults</td>\n",
       "      <td>NaN</td>\n",
       "      <td>NaN</td>\n",
       "    </tr>\n",
       "    <tr>\n",
       "      <th>3</th>\n",
       "      <td>35</td>\n",
       "      <td>D</td>\n",
       "      <td>07/19/2009 01:09:00 AM</td>\n",
       "      <td>2009-07-19</td>\n",
       "      <td>01:09:00</td>\n",
       "      <td>1</td>\n",
       "      <td>200935061008</td>\n",
       "      <td>5500 BLOCK N 5TH ST</td>\n",
       "      <td>1500.0</td>\n",
       "      <td>Weapon Violations</td>\n",
       "      <td>POINT (-75.130477 40.036389)</td>\n",
       "      <td>20.0</td>\n",
       "    </tr>\n",
       "    <tr>\n",
       "      <th>4</th>\n",
       "      <td>9</td>\n",
       "      <td>R</td>\n",
       "      <td>06/25/2009 12:14:00 AM</td>\n",
       "      <td>2009-06-25</td>\n",
       "      <td>00:14:00</td>\n",
       "      <td>0</td>\n",
       "      <td>200909030511</td>\n",
       "      <td>1800 BLOCK WYLIE ST</td>\n",
       "      <td>2600.0</td>\n",
       "      <td>All Other Offenses</td>\n",
       "      <td>POINT (-75.16635 39.969532)</td>\n",
       "      <td>8.0</td>\n",
       "    </tr>\n",
       "  </tbody>\n",
       "</table>\n",
       "</div>"
      ],
      "text/plain": [
       "   DC_DIST PSA      DISPATCH_DATE_TIME DISPATCH_DATE DISPATCH_TIME  HOUR_  \\\n",
       "0       18   3  10/02/2009 02:24:00 PM    2009-10-02      14:24:00     14   \n",
       "1       14   1  05/10/2009 12:55:00 AM    2009-05-10      00:55:00      0   \n",
       "2       25   J  08/07/2009 03:40:00 PM    2009-08-07      15:40:00     15   \n",
       "3       35   D  07/19/2009 01:09:00 AM    2009-07-19      01:09:00      1   \n",
       "4        9   R  06/25/2009 12:14:00 AM    2009-06-25      00:14:00      0   \n",
       "\n",
       "         DC_KEY            LOCATION_BLOCK  UCR_GENERAL   TEXT_GENERAL_CODE  \\\n",
       "0  200918067518  S 38TH ST  / MARKETUT ST        800.0      Other Assaults   \n",
       "1  200914033994          8500 BLOCK MITCH       2600.0  All Other Offenses   \n",
       "2  200925083199               6TH CAMBRIA        800.0      Other Assaults   \n",
       "3  200935061008       5500 BLOCK N 5TH ST       1500.0   Weapon Violations   \n",
       "4  200909030511       1800 BLOCK WYLIE ST       2600.0  All Other Offenses   \n",
       "\n",
       "                          SHAPE  Police Districts  \n",
       "0                           NaN               NaN  \n",
       "1                           NaN               NaN  \n",
       "2                           NaN               NaN  \n",
       "3  POINT (-75.130477 40.036389)              20.0  \n",
       "4   POINT (-75.16635 39.969532)               8.0  "
      ]
     },
     "execution_count": 5,
     "metadata": {},
     "output_type": "execute_result"
    }
   ],
   "source": [
    "ppd.head()"
   ]
  },
  {
   "cell_type": "code",
   "execution_count": 6,
   "metadata": {
    "collapsed": false
   },
   "outputs": [
    {
     "data": {
      "text/plain": [
       "(34,)"
      ]
     },
     "execution_count": 6,
     "metadata": {},
     "output_type": "execute_result"
    }
   ],
   "source": [
    "ppd['TEXT_GENERAL_CODE'].unique().shape"
   ]
  },
  {
   "cell_type": "code",
   "execution_count": 7,
   "metadata": {
    "collapsed": false
   },
   "outputs": [
    {
     "data": {
      "text/plain": [
       "'(-75.130477 40.036389)'"
      ]
     },
     "execution_count": 7,
     "metadata": {},
     "output_type": "execute_result"
    }
   ],
   "source": [
    "import re\n",
    "re.sub(r'POINT ', '', ppd['SHAPE'][3])"
   ]
  },
  {
   "cell_type": "code",
   "execution_count": 8,
   "metadata": {
    "collapsed": false
   },
   "outputs": [
    {
     "data": {
      "text/plain": [
       "array(['Other Assaults', 'All Other Offenses', 'Weapon Violations',\n",
       "       'Thefts', 'Burglary Non-Residential', 'Aggravated Assault Firearm',\n",
       "       'Theft from Vehicle', 'Disorderly Conduct',\n",
       "       'Vandalism/Criminal Mischief', 'Arson', 'Fraud',\n",
       "       'Robbery No Firearm', 'Vagrancy/Loitering', 'Motor Vehicle Theft',\n",
       "       'Recovered Stolen Motor Vehicle', 'Robbery Firearm', 'Embezzlement',\n",
       "       'Rape', 'DRIVING UNDER THE INFLUENCE', 'Forgery and Counterfeiting',\n",
       "       'Narcotic / Drug Law Violations', 'Burglary Residential',\n",
       "       'Other Sex Offenses (Not Commercialized)', 'Liquor Law Violations',\n",
       "       'Aggravated Assault No Firearm', 'Homicide - Criminal',\n",
       "       'Gambling Violations', 'Prostitution and Commercialized Vice',\n",
       "       'Public Drunkenness', 'Receiving Stolen Property',\n",
       "       'Homicide - Gross Negligence',\n",
       "       'Offenses Against Family and Children', 'Homicide - Justifiable',\n",
       "       nan], dtype=object)"
      ]
     },
     "execution_count": 8,
     "metadata": {},
     "output_type": "execute_result"
    }
   ],
   "source": [
    "ppd['TEXT_GENERAL_CODE'].unique()"
   ]
  },
  {
   "cell_type": "code",
   "execution_count": 9,
   "metadata": {
    "collapsed": false
   },
   "outputs": [
    {
     "data": {
      "text/plain": [
       "(107103, 12)"
      ]
     },
     "execution_count": 9,
     "metadata": {},
     "output_type": "execute_result"
    }
   ],
   "source": [
    "ppd[ppd['TEXT_GENERAL_CODE']=='Fraud'].shape"
   ]
  },
  {
   "cell_type": "code",
   "execution_count": 10,
   "metadata": {
    "collapsed": false
   },
   "outputs": [
    {
     "data": {
      "text/plain": [
       "(262841, 12)"
      ]
     },
     "execution_count": 10,
     "metadata": {},
     "output_type": "execute_result"
    }
   ],
   "source": [
    "ppd[ppd['TEXT_GENERAL_CODE']=='Other Assaults'].shape"
   ]
  },
  {
   "cell_type": "code",
   "execution_count": 11,
   "metadata": {
    "collapsed": true
   },
   "outputs": [],
   "source": [
    "ppdDict = {1: ['Thefts', 'Theft from Vehicle'], \n",
    "           2: ['Robbery No Firearm', 'Robbery Firearm'], \n",
    "           3: ['Narcotic / Drug Law Violations','Liquor Law Violations','Public Drunkenness'],\n",
    "           4: ['Aggravated Assault Firearm', 'Aggravated Assault No Firearm'],\n",
    "           5: ['Motor Vehicle Theft'],\n",
    "           6: ['Vandalism/Criminal Mischief'],\n",
    "           7: ['Burglary Non-Residential', 'Burglary Residential'],\n",
    "           8: ['Homicide - Criminal','Homicide - Gross Negligence','Homicide - Justifiable'],\n",
    "           9: ['Rape', 'Prostitution and Commercialized Vice'],\n",
    "          10: ['DRIVING UNDER THE INFLUENCE']}"
   ]
  },
  {
   "cell_type": "code",
   "execution_count": 12,
   "metadata": {
    "collapsed": true
   },
   "outputs": [],
   "source": [
    "def get_crime_cat(df, catname, cDict):\n",
    "    df['CrimeCat'] = 0\n",
    "    for key in cDict:\n",
    "        crimes = cDict[key]\n",
    "        df['CrimeCat'] += df[catname].apply(lambda x:\n",
    "                                            key if x in crimes else 0)\n",
    "    df = df.drop(df[df['CrimeCat'] == 0].index)\n",
    "    return df"
   ]
  },
  {
   "cell_type": "code",
   "execution_count": 13,
   "metadata": {
    "collapsed": true
   },
   "outputs": [],
   "source": [
    "ppd = get_crime_cat(ppd, 'TEXT_GENERAL_CODE', ppdDict)"
   ]
  },
  {
   "cell_type": "code",
   "execution_count": 14,
   "metadata": {
    "collapsed": false
   },
   "outputs": [
    {
     "name": "stdout",
     "output_type": "stream",
     "text": [
      "<class 'pandas.core.frame.DataFrame'>\n",
      "Int64Index: 1156286 entries, 5 to 2133069\n",
      "Data columns (total 13 columns):\n",
      "DC_DIST               1156286 non-null int64\n",
      "PSA                   1156286 non-null object\n",
      "DISPATCH_DATE_TIME    1156286 non-null object\n",
      "DISPATCH_DATE         1156286 non-null object\n",
      "DISPATCH_TIME         1156286 non-null object\n",
      "HOUR_                 1156286 non-null int64\n",
      "DC_KEY                1156286 non-null int64\n",
      "LOCATION_BLOCK        1156286 non-null object\n",
      "UCR_GENERAL           1156286 non-null float64\n",
      "TEXT_GENERAL_CODE     1156286 non-null object\n",
      "SHAPE                 1147064 non-null object\n",
      "Police Districts      1146145 non-null float64\n",
      "CrimeCat              1156286 non-null int64\n",
      "dtypes: float64(2), int64(4), object(7)\n",
      "memory usage: 123.5+ MB\n"
     ]
    }
   ],
   "source": [
    "ppd.info()"
   ]
  },
  {
   "cell_type": "code",
   "execution_count": 15,
   "metadata": {
    "collapsed": false
   },
   "outputs": [],
   "source": [
    "ppd = ppd.dropna()"
   ]
  },
  {
   "cell_type": "code",
   "execution_count": 16,
   "metadata": {
    "collapsed": false
   },
   "outputs": [],
   "source": [
    "import re\n",
    "ppd['X'] = ppd['SHAPE'].apply(lambda x: float(re.sub(r'(\\(|\\))', '', x).split()[1]))\n",
    "ppd['Y'] = ppd['SHAPE'].apply(lambda x: float(re.sub(r'(\\(|\\))', '', x).split()[2]))"
   ]
  },
  {
   "cell_type": "code",
   "execution_count": 17,
   "metadata": {
    "collapsed": false
   },
   "outputs": [
    {
     "data": {
      "text/plain": [
       "[39.876252999999998,\n",
       " 39.876263999999999,\n",
       " 39.876325000000001,\n",
       " 39.876409000000002,\n",
       " 39.876416999999996,\n",
       " 39.876671000000002,\n",
       " 39.876854000000002,\n",
       " 39.877344000000001,\n",
       " 39.877347,\n",
       " 39.877349000000002,\n",
       " 39.877355000000001,\n",
       " 39.878,\n",
       " 39.878635000000003,\n",
       " 39.879114999999999,\n",
       " 39.879371999999996,\n",
       " 39.880006000000002,\n",
       " 39.881076999999998,\n",
       " 39.881126000000002,\n",
       " 39.881165000000003,\n",
       " 39.881338]"
      ]
     },
     "execution_count": 17,
     "metadata": {},
     "output_type": "execute_result"
    }
   ],
   "source": [
    "sorted(ppd['Y'].unique())[:20]"
   ]
  },
  {
   "cell_type": "code",
   "execution_count": 18,
   "metadata": {
    "collapsed": false
   },
   "outputs": [],
   "source": [
    "ppd['Year'] = ppd['DISPATCH_DATE'].apply(lambda x: int(x.split('-')[0]))\n",
    "ppd['Month'] = ppd['DISPATCH_DATE'].apply(lambda x: int(x.split('-')[1]))\n",
    "ppd['Day'] = ppd['DISPATCH_DATE'].apply(lambda x: int(x.split('-')[2]))"
   ]
  },
  {
   "cell_type": "code",
   "execution_count": 19,
   "metadata": {
    "collapsed": false
   },
   "outputs": [
    {
     "name": "stdout",
     "output_type": "stream",
     "text": [
      "<class 'pandas.core.frame.DataFrame'>\n",
      "Int64Index: 1146145 entries, 5 to 2133069\n",
      "Data columns (total 18 columns):\n",
      "DC_DIST               1146145 non-null int64\n",
      "PSA                   1146145 non-null object\n",
      "DISPATCH_DATE_TIME    1146145 non-null object\n",
      "DISPATCH_DATE         1146145 non-null object\n",
      "DISPATCH_TIME         1146145 non-null object\n",
      "HOUR_                 1146145 non-null int64\n",
      "DC_KEY                1146145 non-null int64\n",
      "LOCATION_BLOCK        1146145 non-null object\n",
      "UCR_GENERAL           1146145 non-null float64\n",
      "TEXT_GENERAL_CODE     1146145 non-null object\n",
      "SHAPE                 1146145 non-null object\n",
      "Police Districts      1146145 non-null float64\n",
      "CrimeCat              1146145 non-null int64\n",
      "X                     1146145 non-null float64\n",
      "Y                     1146145 non-null float64\n",
      "Year                  1146145 non-null int64\n",
      "Month                 1146145 non-null int64\n",
      "Day                   1146145 non-null int64\n",
      "dtypes: float64(4), int64(7), object(7)\n",
      "memory usage: 166.1+ MB\n"
     ]
    }
   ],
   "source": [
    "ppd.info()"
   ]
  },
  {
   "cell_type": "code",
   "execution_count": 20,
   "metadata": {
    "collapsed": false
   },
   "outputs": [],
   "source": [
    "dropLst = ['DC_DIST', 'PSA', 'DISPATCH_DATE_TIME',\n",
    "           'DISPATCH_DATE', 'DISPATCH_TIME', 'DC_KEY',\n",
    "           'UCR_GENERAL', 'SHAPE']\n",
    "ppd = ppd.drop(dropLst, axis=1)"
   ]
  },
  {
   "cell_type": "code",
   "execution_count": 21,
   "metadata": {
    "collapsed": true
   },
   "outputs": [],
   "source": []
  },
  {
   "cell_type": "code",
   "execution_count": 22,
   "metadata": {
    "collapsed": false
   },
   "outputs": [
    {
     "data": {
      "text/plain": [
       "(23655,)"
      ]
     },
     "execution_count": 22,
     "metadata": {},
     "output_type": "execute_result"
    }
   ],
   "source": [
    "ppd['X'] = ppd['X'].apply(lambda x: round(x, 3))\n",
    "ppd['Y'] = ppd['Y'].apply(lambda x: round(x, 3))\n",
    "ppd['loc'] = zip(ppd['Y'], ppd['X'])\n",
    "ppd['loc'].unique().shape"
   ]
  },
  {
   "cell_type": "code",
   "execution_count": 23,
   "metadata": {
    "collapsed": false
   },
   "outputs": [
    {
     "data": {
      "text/plain": [
       "(1146145,)"
      ]
     },
     "execution_count": 23,
     "metadata": {},
     "output_type": "execute_result"
    }
   ],
   "source": [
    "ppd['loc'].shape"
   ]
  },
  {
   "cell_type": "code",
   "execution_count": 24,
   "metadata": {
    "collapsed": true
   },
   "outputs": [],
   "source": [
    "import geocoder\n",
    "import logging\n",
    "import pyprind\n",
    "import re\n",
    "import time\n",
    "\n",
    "def get_zip_dict_bing(locations):\n",
    "    global locDict\n",
    "    n = len(locations)\n",
    "#     with open('../data/dpdpost.txt', 'r+') as f:\n",
    "#         for line in f:\n",
    "#             line = re.sub(r'\\(|\\)', '', line)\n",
    "#             line = line.split(',')\n",
    "#             loc = line[0] + ', ' + line[1]\n",
    "#             locDict[loc] = line[2]\n",
    "    with open('../data/philypost.txt', 'w+') as f:\n",
    "        bar = pyprind.ProgBar(n)\n",
    "        for i in xrange(n):\n",
    "            loc = locations[i]\n",
    "            if loc not in locDict:\n",
    "                g = geocoder.bing(loc, method='reverse')\n",
    "                attempts = 1\n",
    "                while not(g.ok) and attempts < 4:\n",
    "                    logging.warning('Geocoding ERROR: {}'.format(g.debug()))\n",
    "                    time.sleep(5)  # 2 seconds are specified in the API. If you still get errors, it's because you've reached the daily quota.\n",
    "                    g = geocoder.bing(loc, method='reverse')\n",
    "                    attempts += 1\n",
    "                if attempts > 3:\n",
    "                    logging.warning('Daily quota of bing lookups exceeded.')\n",
    "                    break\n",
    "                zipcode = g.postal\n",
    "                f.write('{}, {} \\n'.format(loc, zipcode))\n",
    "                locDict[loc] = zipcode\n",
    "            bar.update()\n",
    "    return locDict"
   ]
  },
  {
   "cell_type": "code",
   "execution_count": 25,
   "metadata": {
    "collapsed": true
   },
   "outputs": [],
   "source": [
    "locations= ppd['loc'].unique()\n",
    "locDict = {}"
   ]
  },
  {
   "cell_type": "code",
   "execution_count": 26,
   "metadata": {
    "collapsed": false
   },
   "outputs": [
    {
     "name": "stderr",
     "output_type": "stream",
     "text": [
      "0%                          100%\n",
      "[##############################] | ETA: 00:00:00\n",
      "Total time elapsed: 00:39:39\n"
     ]
    }
   ],
   "source": [
    "locDict1 = get_zip_dict_bing(locations)"
   ]
  },
  {
   "cell_type": "code",
   "execution_count": 27,
   "metadata": {
    "collapsed": false
   },
   "outputs": [
    {
     "data": {
      "text/plain": [
       "23655"
      ]
     },
     "execution_count": 27,
     "metadata": {},
     "output_type": "execute_result"
    }
   ],
   "source": [
    "len(locDict)"
   ]
  },
  {
   "cell_type": "code",
   "execution_count": 28,
   "metadata": {
    "collapsed": false
   },
   "outputs": [
    {
     "data": {
      "text/plain": [
       "23655"
      ]
     },
     "execution_count": 28,
     "metadata": {},
     "output_type": "execute_result"
    }
   ],
   "source": [
    "len(locDict1)"
   ]
  },
  {
   "cell_type": "code",
   "execution_count": 29,
   "metadata": {
    "collapsed": true
   },
   "outputs": [],
   "source": [
    "ppd['zipcoe'] = ppd['loc'].apply(lambda x: locDict[x])"
   ]
  },
  {
   "cell_type": "code",
   "execution_count": 31,
   "metadata": {
    "collapsed": false
   },
   "outputs": [],
   "source": [
    "ppd.to_csv('../data/ppd_clean.csv')"
   ]
  },
  {
   "cell_type": "code",
   "execution_count": 32,
   "metadata": {
    "collapsed": true
   },
   "outputs": [],
   "source": [
    "ppd=pd.read_csv('../data/ppd_clean.csv')"
   ]
  },
  {
   "cell_type": "code",
   "execution_count": 33,
   "metadata": {
    "collapsed": false
   },
   "outputs": [
    {
     "data": {
      "text/html": [
       "<div>\n",
       "<table border=\"1\" class=\"dataframe\">\n",
       "  <thead>\n",
       "    <tr style=\"text-align: right;\">\n",
       "      <th></th>\n",
       "      <th>Unnamed: 0</th>\n",
       "      <th>HOUR_</th>\n",
       "      <th>LOCATION_BLOCK</th>\n",
       "      <th>TEXT_GENERAL_CODE</th>\n",
       "      <th>Police Districts</th>\n",
       "      <th>CrimeCat</th>\n",
       "      <th>X</th>\n",
       "      <th>Y</th>\n",
       "      <th>Year</th>\n",
       "      <th>Month</th>\n",
       "      <th>Day</th>\n",
       "      <th>loc</th>\n",
       "      <th>zipcoe</th>\n",
       "    </tr>\n",
       "  </thead>\n",
       "  <tbody>\n",
       "    <tr>\n",
       "      <th>0</th>\n",
       "      <td>5</td>\n",
       "      <td>12</td>\n",
       "      <td>800 BLOCK S BROAD ST</td>\n",
       "      <td>Thefts</td>\n",
       "      <td>13.0</td>\n",
       "      <td>1</td>\n",
       "      <td>-75.166</td>\n",
       "      <td>39.940</td>\n",
       "      <td>2015</td>\n",
       "      <td>4</td>\n",
       "      <td>25</td>\n",
       "      <td>(39.939999999999998, -75.165999999999997)</td>\n",
       "      <td>19147.0</td>\n",
       "    </tr>\n",
       "    <tr>\n",
       "      <th>1</th>\n",
       "      <td>12</td>\n",
       "      <td>18</td>\n",
       "      <td>1500 BLOCK N 15TH ST</td>\n",
       "      <td>Thefts</td>\n",
       "      <td>16.0</td>\n",
       "      <td>1</td>\n",
       "      <td>-75.160</td>\n",
       "      <td>39.976</td>\n",
       "      <td>2015</td>\n",
       "      <td>10</td>\n",
       "      <td>6</td>\n",
       "      <td>(39.975999999999999, -75.159999999999997)</td>\n",
       "      <td>19121.0</td>\n",
       "    </tr>\n",
       "    <tr>\n",
       "      <th>2</th>\n",
       "      <td>13</td>\n",
       "      <td>0</td>\n",
       "      <td>1500 BLOCK N 17TH ST</td>\n",
       "      <td>Thefts</td>\n",
       "      <td>16.0</td>\n",
       "      <td>1</td>\n",
       "      <td>-75.163</td>\n",
       "      <td>39.978</td>\n",
       "      <td>2015</td>\n",
       "      <td>10</td>\n",
       "      <td>9</td>\n",
       "      <td>(39.978000000000002, -75.162999999999997)</td>\n",
       "      <td>19121.0</td>\n",
       "    </tr>\n",
       "    <tr>\n",
       "      <th>3</th>\n",
       "      <td>15</td>\n",
       "      <td>8</td>\n",
       "      <td>6500 BLOCK CASTOR AV</td>\n",
       "      <td>Thefts</td>\n",
       "      <td>2.0</td>\n",
       "      <td>1</td>\n",
       "      <td>-75.076</td>\n",
       "      <td>40.041</td>\n",
       "      <td>2015</td>\n",
       "      <td>11</td>\n",
       "      <td>30</td>\n",
       "      <td>(40.040999999999997, -75.075999999999993)</td>\n",
       "      <td>19149.0</td>\n",
       "    </tr>\n",
       "    <tr>\n",
       "      <th>4</th>\n",
       "      <td>21</td>\n",
       "      <td>12</td>\n",
       "      <td>2600 BLOCK W THOMPSON ST</td>\n",
       "      <td>Thefts</td>\n",
       "      <td>16.0</td>\n",
       "      <td>1</td>\n",
       "      <td>-75.179</td>\n",
       "      <td>39.976</td>\n",
       "      <td>2015</td>\n",
       "      <td>12</td>\n",
       "      <td>10</td>\n",
       "      <td>(39.975999999999999, -75.179000000000002)</td>\n",
       "      <td>19121.0</td>\n",
       "    </tr>\n",
       "  </tbody>\n",
       "</table>\n",
       "</div>"
      ],
      "text/plain": [
       "   Unnamed: 0  HOUR_            LOCATION_BLOCK TEXT_GENERAL_CODE  \\\n",
       "0           5     12      800 BLOCK S BROAD ST            Thefts   \n",
       "1          12     18      1500 BLOCK N 15TH ST            Thefts   \n",
       "2          13      0      1500 BLOCK N 17TH ST            Thefts   \n",
       "3          15      8      6500 BLOCK CASTOR AV            Thefts   \n",
       "4          21     12  2600 BLOCK W THOMPSON ST            Thefts   \n",
       "\n",
       "   Police Districts  CrimeCat       X       Y  Year  Month  Day  \\\n",
       "0              13.0         1 -75.166  39.940  2015      4   25   \n",
       "1              16.0         1 -75.160  39.976  2015     10    6   \n",
       "2              16.0         1 -75.163  39.978  2015     10    9   \n",
       "3               2.0         1 -75.076  40.041  2015     11   30   \n",
       "4              16.0         1 -75.179  39.976  2015     12   10   \n",
       "\n",
       "                                         loc   zipcoe  \n",
       "0  (39.939999999999998, -75.165999999999997)  19147.0  \n",
       "1  (39.975999999999999, -75.159999999999997)  19121.0  \n",
       "2  (39.978000000000002, -75.162999999999997)  19121.0  \n",
       "3  (40.040999999999997, -75.075999999999993)  19149.0  \n",
       "4  (39.975999999999999, -75.179000000000002)  19121.0  "
      ]
     },
     "execution_count": 33,
     "metadata": {},
     "output_type": "execute_result"
    }
   ],
   "source": [
    "ppd.head()"
   ]
  },
  {
   "cell_type": "code",
   "execution_count": null,
   "metadata": {
    "collapsed": true
   },
   "outputs": [],
   "source": []
  }
 ],
 "metadata": {
  "anaconda-cloud": {},
  "kernelspec": {
   "display_name": "Python [Root]",
   "language": "python",
   "name": "Python [Root]"
  },
  "language_info": {
   "codemirror_mode": {
    "name": "ipython",
    "version": 2
   },
   "file_extension": ".py",
   "mimetype": "text/x-python",
   "name": "python",
   "nbconvert_exporter": "python",
   "pygments_lexer": "ipython2",
   "version": "2.7.12"
  }
 },
 "nbformat": 4,
 "nbformat_minor": 0
}
