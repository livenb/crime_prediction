{
 "cells": [
  {
   "cell_type": "code",
   "execution_count": 3,
   "metadata": {
    "collapsed": true
   },
   "outputs": [],
   "source": [
    "import pandas as pd"
   ]
  },
  {
   "cell_type": "code",
   "execution_count": 1,
   "metadata": {
    "collapsed": true
   },
   "outputs": [],
   "source": [
    "philadelphiafile = '../data/PPD.csv'"
   ]
  },
  {
   "cell_type": "code",
   "execution_count": 4,
   "metadata": {
    "collapsed": false
   },
   "outputs": [],
   "source": [
    "ppd = pd.read_csv(philadelphiafile)"
   ]
  },
  {
   "cell_type": "code",
   "execution_count": 5,
   "metadata": {
    "collapsed": false
   },
   "outputs": [
    {
     "name": "stdout",
     "output_type": "stream",
     "text": [
      "<class 'pandas.core.frame.DataFrame'>\n",
      "RangeIndex: 2133072 entries, 0 to 2133071\n",
      "Data columns (total 12 columns):\n",
      "DC_DIST               int64\n",
      "PSA                   object\n",
      "DISPATCH_DATE_TIME    object\n",
      "DISPATCH_DATE         object\n",
      "DISPATCH_TIME         object\n",
      "HOUR_                 int64\n",
      "DC_KEY                int64\n",
      "LOCATION_BLOCK        object\n",
      "UCR_GENERAL           float64\n",
      "TEXT_GENERAL_CODE     object\n",
      "SHAPE                 object\n",
      "Police Districts      float64\n",
      "dtypes: float64(2), int64(3), object(7)\n",
      "memory usage: 195.3+ MB\n"
     ]
    }
   ],
   "source": [
    "ppd.info()"
   ]
  },
  {
   "cell_type": "code",
   "execution_count": 6,
   "metadata": {
    "collapsed": false
   },
   "outputs": [
    {
     "data": {
      "text/html": [
       "<div>\n",
       "<table border=\"1\" class=\"dataframe\">\n",
       "  <thead>\n",
       "    <tr style=\"text-align: right;\">\n",
       "      <th></th>\n",
       "      <th>DC_DIST</th>\n",
       "      <th>PSA</th>\n",
       "      <th>DISPATCH_DATE_TIME</th>\n",
       "      <th>DISPATCH_DATE</th>\n",
       "      <th>DISPATCH_TIME</th>\n",
       "      <th>HOUR_</th>\n",
       "      <th>DC_KEY</th>\n",
       "      <th>LOCATION_BLOCK</th>\n",
       "      <th>UCR_GENERAL</th>\n",
       "      <th>TEXT_GENERAL_CODE</th>\n",
       "      <th>SHAPE</th>\n",
       "      <th>Police Districts</th>\n",
       "    </tr>\n",
       "  </thead>\n",
       "  <tbody>\n",
       "    <tr>\n",
       "      <th>0</th>\n",
       "      <td>18</td>\n",
       "      <td>3</td>\n",
       "      <td>10/02/2009 02:24:00 PM</td>\n",
       "      <td>2009-10-02</td>\n",
       "      <td>14:24:00</td>\n",
       "      <td>14</td>\n",
       "      <td>200918067518</td>\n",
       "      <td>S 38TH ST  / MARKETUT ST</td>\n",
       "      <td>800.0</td>\n",
       "      <td>Other Assaults</td>\n",
       "      <td>NaN</td>\n",
       "      <td>NaN</td>\n",
       "    </tr>\n",
       "    <tr>\n",
       "      <th>1</th>\n",
       "      <td>14</td>\n",
       "      <td>1</td>\n",
       "      <td>05/10/2009 12:55:00 AM</td>\n",
       "      <td>2009-05-10</td>\n",
       "      <td>00:55:00</td>\n",
       "      <td>0</td>\n",
       "      <td>200914033994</td>\n",
       "      <td>8500 BLOCK MITCH</td>\n",
       "      <td>2600.0</td>\n",
       "      <td>All Other Offenses</td>\n",
       "      <td>NaN</td>\n",
       "      <td>NaN</td>\n",
       "    </tr>\n",
       "    <tr>\n",
       "      <th>2</th>\n",
       "      <td>25</td>\n",
       "      <td>J</td>\n",
       "      <td>08/07/2009 03:40:00 PM</td>\n",
       "      <td>2009-08-07</td>\n",
       "      <td>15:40:00</td>\n",
       "      <td>15</td>\n",
       "      <td>200925083199</td>\n",
       "      <td>6TH CAMBRIA</td>\n",
       "      <td>800.0</td>\n",
       "      <td>Other Assaults</td>\n",
       "      <td>NaN</td>\n",
       "      <td>NaN</td>\n",
       "    </tr>\n",
       "    <tr>\n",
       "      <th>3</th>\n",
       "      <td>35</td>\n",
       "      <td>D</td>\n",
       "      <td>07/19/2009 01:09:00 AM</td>\n",
       "      <td>2009-07-19</td>\n",
       "      <td>01:09:00</td>\n",
       "      <td>1</td>\n",
       "      <td>200935061008</td>\n",
       "      <td>5500 BLOCK N 5TH ST</td>\n",
       "      <td>1500.0</td>\n",
       "      <td>Weapon Violations</td>\n",
       "      <td>POINT (-75.130477 40.036389)</td>\n",
       "      <td>20.0</td>\n",
       "    </tr>\n",
       "    <tr>\n",
       "      <th>4</th>\n",
       "      <td>9</td>\n",
       "      <td>R</td>\n",
       "      <td>06/25/2009 12:14:00 AM</td>\n",
       "      <td>2009-06-25</td>\n",
       "      <td>00:14:00</td>\n",
       "      <td>0</td>\n",
       "      <td>200909030511</td>\n",
       "      <td>1800 BLOCK WYLIE ST</td>\n",
       "      <td>2600.0</td>\n",
       "      <td>All Other Offenses</td>\n",
       "      <td>POINT (-75.16635 39.969532)</td>\n",
       "      <td>8.0</td>\n",
       "    </tr>\n",
       "  </tbody>\n",
       "</table>\n",
       "</div>"
      ],
      "text/plain": [
       "   DC_DIST PSA      DISPATCH_DATE_TIME DISPATCH_DATE DISPATCH_TIME  HOUR_  \\\n",
       "0       18   3  10/02/2009 02:24:00 PM    2009-10-02      14:24:00     14   \n",
       "1       14   1  05/10/2009 12:55:00 AM    2009-05-10      00:55:00      0   \n",
       "2       25   J  08/07/2009 03:40:00 PM    2009-08-07      15:40:00     15   \n",
       "3       35   D  07/19/2009 01:09:00 AM    2009-07-19      01:09:00      1   \n",
       "4        9   R  06/25/2009 12:14:00 AM    2009-06-25      00:14:00      0   \n",
       "\n",
       "         DC_KEY            LOCATION_BLOCK  UCR_GENERAL   TEXT_GENERAL_CODE  \\\n",
       "0  200918067518  S 38TH ST  / MARKETUT ST        800.0      Other Assaults   \n",
       "1  200914033994          8500 BLOCK MITCH       2600.0  All Other Offenses   \n",
       "2  200925083199               6TH CAMBRIA        800.0      Other Assaults   \n",
       "3  200935061008       5500 BLOCK N 5TH ST       1500.0   Weapon Violations   \n",
       "4  200909030511       1800 BLOCK WYLIE ST       2600.0  All Other Offenses   \n",
       "\n",
       "                          SHAPE  Police Districts  \n",
       "0                           NaN               NaN  \n",
       "1                           NaN               NaN  \n",
       "2                           NaN               NaN  \n",
       "3  POINT (-75.130477 40.036389)              20.0  \n",
       "4   POINT (-75.16635 39.969532)               8.0  "
      ]
     },
     "execution_count": 6,
     "metadata": {},
     "output_type": "execute_result"
    }
   ],
   "source": [
    "ppd.head()"
   ]
  },
  {
   "cell_type": "code",
   "execution_count": 7,
   "metadata": {
    "collapsed": false
   },
   "outputs": [
    {
     "data": {
      "text/plain": [
       "(34,)"
      ]
     },
     "execution_count": 7,
     "metadata": {},
     "output_type": "execute_result"
    }
   ],
   "source": [
    "ppd['TEXT_GENERAL_CODE'].unique().shape"
   ]
  },
  {
   "cell_type": "code",
   "execution_count": 8,
   "metadata": {
    "collapsed": false
   },
   "outputs": [
    {
     "data": {
      "text/plain": [
       "array(['Other Assaults', 'All Other Offenses', 'Weapon Violations',\n",
       "       'Thefts', 'Burglary Non-Residential', 'Aggravated Assault Firearm',\n",
       "       'Theft from Vehicle', 'Disorderly Conduct',\n",
       "       'Vandalism/Criminal Mischief', 'Arson', 'Fraud',\n",
       "       'Robbery No Firearm', 'Vagrancy/Loitering', 'Motor Vehicle Theft',\n",
       "       'Recovered Stolen Motor Vehicle', 'Robbery Firearm', 'Embezzlement',\n",
       "       'Rape', 'DRIVING UNDER THE INFLUENCE', 'Forgery and Counterfeiting',\n",
       "       'Narcotic / Drug Law Violations', 'Burglary Residential',\n",
       "       'Other Sex Offenses (Not Commercialized)', 'Liquor Law Violations',\n",
       "       'Aggravated Assault No Firearm', 'Homicide - Criminal',\n",
       "       'Gambling Violations', 'Prostitution and Commercialized Vice',\n",
       "       'Public Drunkenness', 'Receiving Stolen Property',\n",
       "       'Homicide - Gross Negligence',\n",
       "       'Offenses Against Family and Children', 'Homicide - Justifiable',\n",
       "       nan], dtype=object)"
      ]
     },
     "execution_count": 8,
     "metadata": {},
     "output_type": "execute_result"
    }
   ],
   "source": [
    "ppd['TEXT_GENERAL_CODE'].unique()"
   ]
  },
  {
   "cell_type": "code",
   "execution_count": 11,
   "metadata": {
    "collapsed": false
   },
   "outputs": [
    {
     "data": {
      "text/plain": [
       "(107103, 12)"
      ]
     },
     "execution_count": 11,
     "metadata": {},
     "output_type": "execute_result"
    }
   ],
   "source": [
    "ppd[ppd['TEXT_GENERAL_CODE']=='Fraud'].shape"
   ]
  },
  {
   "cell_type": "code",
   "execution_count": 12,
   "metadata": {
    "collapsed": false
   },
   "outputs": [
    {
     "data": {
      "text/plain": [
       "(262841, 12)"
      ]
     },
     "execution_count": 12,
     "metadata": {},
     "output_type": "execute_result"
    }
   ],
   "source": [
    "ppd[ppd['TEXT_GENERAL_CODE']=='Other Assaults'].shape"
   ]
  },
  {
   "cell_type": "code",
   "execution_count": 13,
   "metadata": {
    "collapsed": true
   },
   "outputs": [],
   "source": [
    "ppdDict = {1: ['Thefts', 'Theft from Vehicle'], \n",
    "           2: ['Robbery No Firearm', 'Robbery Firearm'], \n",
    "           3: ['Narcotic / Drug Law Violations','Liquor Law Violations','Public Drunkenness'],\n",
    "           4: ['Aggravated Assault Firearm', 'Aggravated Assault No Firearm'],\n",
    "           5: ['Motor Vehicle Theft'],\n",
    "           6: ['Vandalism/Criminal Mischief'],\n",
    "           7: ['Burglary Non-Residential', 'Burglary Residential'],\n",
    "           8: ['Homicide - Criminal','Homicide - Gross Negligence','Homicide - Justifiable'],\n",
    "           9: ['Rape', 'Prostitution and Commercialized Vice'],\n",
    "          10: ['DRIVING UNDER THE INFLUENCE']}"
   ]
  },
  {
   "cell_type": "code",
   "execution_count": null,
   "metadata": {
    "collapsed": true
   },
   "outputs": [],
   "source": []
  }
 ],
 "metadata": {
  "anaconda-cloud": {},
  "kernelspec": {
   "display_name": "Python [Root]",
   "language": "python",
   "name": "Python [Root]"
  },
  "language_info": {
   "codemirror_mode": {
    "name": "ipython",
    "version": 2
   },
   "file_extension": ".py",
   "mimetype": "text/x-python",
   "name": "python",
   "nbconvert_exporter": "python",
   "pygments_lexer": "ipython2",
   "version": "2.7.12"
  }
 },
 "nbformat": 4,
 "nbformat_minor": 0
}
