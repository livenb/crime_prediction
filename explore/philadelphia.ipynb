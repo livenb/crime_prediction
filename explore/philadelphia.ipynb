{
 "cells": [
  {
   "cell_type": "code",
   "execution_count": 1,
   "metadata": {
    "collapsed": true
   },
   "outputs": [],
   "source": [
    "import pandas as pd"
   ]
  },
  {
   "cell_type": "code",
   "execution_count": 2,
   "metadata": {
    "collapsed": true
   },
   "outputs": [],
   "source": [
    "philadelphiafile = '../data/PPD.csv'"
   ]
  },
  {
   "cell_type": "code",
   "execution_count": 3,
   "metadata": {
    "collapsed": false
   },
   "outputs": [],
   "source": [
    "ppd = pd.read_csv(philadelphiafile)"
   ]
  },
  {
   "cell_type": "code",
   "execution_count": 4,
   "metadata": {
    "collapsed": false
   },
   "outputs": [
    {
     "name": "stdout",
     "output_type": "stream",
     "text": [
      "<class 'pandas.core.frame.DataFrame'>\n",
      "RangeIndex: 2133072 entries, 0 to 2133071\n",
      "Data columns (total 12 columns):\n",
      "DC_DIST               int64\n",
      "PSA                   object\n",
      "DISPATCH_DATE_TIME    object\n",
      "DISPATCH_DATE         object\n",
      "DISPATCH_TIME         object\n",
      "HOUR_                 int64\n",
      "DC_KEY                int64\n",
      "LOCATION_BLOCK        object\n",
      "UCR_GENERAL           float64\n",
      "TEXT_GENERAL_CODE     object\n",
      "SHAPE                 object\n",
      "Police Districts      float64\n",
      "dtypes: float64(2), int64(3), object(7)\n",
      "memory usage: 195.3+ MB\n"
     ]
    }
   ],
   "source": [
    "ppd.info()"
   ]
  },
  {
   "cell_type": "code",
   "execution_count": 34,
   "metadata": {
    "collapsed": false
   },
   "outputs": [
    {
     "data": {
      "text/html": [
       "<div>\n",
       "<table border=\"1\" class=\"dataframe\">\n",
       "  <thead>\n",
       "    <tr style=\"text-align: right;\">\n",
       "      <th></th>\n",
       "      <th>DC_DIST</th>\n",
       "      <th>PSA</th>\n",
       "      <th>DISPATCH_DATE_TIME</th>\n",
       "      <th>DISPATCH_DATE</th>\n",
       "      <th>DISPATCH_TIME</th>\n",
       "      <th>HOUR_</th>\n",
       "      <th>DC_KEY</th>\n",
       "      <th>LOCATION_BLOCK</th>\n",
       "      <th>UCR_GENERAL</th>\n",
       "      <th>TEXT_GENERAL_CODE</th>\n",
       "      <th>SHAPE</th>\n",
       "      <th>Police Districts</th>\n",
       "      <th>CrimeCat</th>\n",
       "      <th>X</th>\n",
       "      <th>Y</th>\n",
       "    </tr>\n",
       "  </thead>\n",
       "  <tbody>\n",
       "    <tr>\n",
       "      <th>5</th>\n",
       "      <td>17</td>\n",
       "      <td>1</td>\n",
       "      <td>04/25/2015 12:50:00 PM</td>\n",
       "      <td>2015-04-25</td>\n",
       "      <td>12:50:00</td>\n",
       "      <td>12</td>\n",
       "      <td>201517017705</td>\n",
       "      <td>800 BLOCK S BROAD ST</td>\n",
       "      <td>600.0</td>\n",
       "      <td>Thefts</td>\n",
       "      <td>POINT (-75.166412 39.94007)</td>\n",
       "      <td>13.0</td>\n",
       "      <td>1</td>\n",
       "      <td>-75.166412</td>\n",
       "      <td>39.940070</td>\n",
       "    </tr>\n",
       "    <tr>\n",
       "      <th>12</th>\n",
       "      <td>22</td>\n",
       "      <td>3</td>\n",
       "      <td>10/06/2015 06:18:00 PM</td>\n",
       "      <td>2015-10-06</td>\n",
       "      <td>18:18:00</td>\n",
       "      <td>18</td>\n",
       "      <td>201522089374</td>\n",
       "      <td>1500 BLOCK N 15TH ST</td>\n",
       "      <td>600.0</td>\n",
       "      <td>Thefts</td>\n",
       "      <td>POINT (-75.160229 39.976134)</td>\n",
       "      <td>16.0</td>\n",
       "      <td>1</td>\n",
       "      <td>-75.160229</td>\n",
       "      <td>39.976134</td>\n",
       "    </tr>\n",
       "    <tr>\n",
       "      <th>13</th>\n",
       "      <td>22</td>\n",
       "      <td>3</td>\n",
       "      <td>10/09/2015 12:49:00 AM</td>\n",
       "      <td>2015-10-09</td>\n",
       "      <td>00:49:00</td>\n",
       "      <td>0</td>\n",
       "      <td>201522090172</td>\n",
       "      <td>1500 BLOCK N 17TH ST</td>\n",
       "      <td>600.0</td>\n",
       "      <td>Thefts</td>\n",
       "      <td>POINT (-75.163073 39.977872)</td>\n",
       "      <td>16.0</td>\n",
       "      <td>1</td>\n",
       "      <td>-75.163073</td>\n",
       "      <td>39.977872</td>\n",
       "    </tr>\n",
       "    <tr>\n",
       "      <th>15</th>\n",
       "      <td>2</td>\n",
       "      <td>1</td>\n",
       "      <td>11/30/2015 08:39:00 AM</td>\n",
       "      <td>2015-11-30</td>\n",
       "      <td>08:39:00</td>\n",
       "      <td>8</td>\n",
       "      <td>201502076521</td>\n",
       "      <td>6500 BLOCK CASTOR AV</td>\n",
       "      <td>600.0</td>\n",
       "      <td>Thefts</td>\n",
       "      <td>POINT (-75.075602 40.04127)</td>\n",
       "      <td>2.0</td>\n",
       "      <td>1</td>\n",
       "      <td>-75.075602</td>\n",
       "      <td>40.041270</td>\n",
       "    </tr>\n",
       "    <tr>\n",
       "      <th>21</th>\n",
       "      <td>22</td>\n",
       "      <td>4</td>\n",
       "      <td>12/10/2015 12:29:00 PM</td>\n",
       "      <td>2015-12-10</td>\n",
       "      <td>12:29:00</td>\n",
       "      <td>12</td>\n",
       "      <td>201522110572</td>\n",
       "      <td>2600 BLOCK W THOMPSON ST</td>\n",
       "      <td>600.0</td>\n",
       "      <td>Thefts</td>\n",
       "      <td>POINT (-75.178874 39.975724)</td>\n",
       "      <td>16.0</td>\n",
       "      <td>1</td>\n",
       "      <td>-75.178874</td>\n",
       "      <td>39.975724</td>\n",
       "    </tr>\n",
       "  </tbody>\n",
       "</table>\n",
       "</div>"
      ],
      "text/plain": [
       "    DC_DIST PSA      DISPATCH_DATE_TIME DISPATCH_DATE DISPATCH_TIME  HOUR_  \\\n",
       "5        17   1  04/25/2015 12:50:00 PM    2015-04-25      12:50:00     12   \n",
       "12       22   3  10/06/2015 06:18:00 PM    2015-10-06      18:18:00     18   \n",
       "13       22   3  10/09/2015 12:49:00 AM    2015-10-09      00:49:00      0   \n",
       "15        2   1  11/30/2015 08:39:00 AM    2015-11-30      08:39:00      8   \n",
       "21       22   4  12/10/2015 12:29:00 PM    2015-12-10      12:29:00     12   \n",
       "\n",
       "          DC_KEY            LOCATION_BLOCK  UCR_GENERAL TEXT_GENERAL_CODE  \\\n",
       "5   201517017705      800 BLOCK S BROAD ST        600.0            Thefts   \n",
       "12  201522089374      1500 BLOCK N 15TH ST        600.0            Thefts   \n",
       "13  201522090172      1500 BLOCK N 17TH ST        600.0            Thefts   \n",
       "15  201502076521      6500 BLOCK CASTOR AV        600.0            Thefts   \n",
       "21  201522110572  2600 BLOCK W THOMPSON ST        600.0            Thefts   \n",
       "\n",
       "                           SHAPE  Police Districts  CrimeCat          X  \\\n",
       "5    POINT (-75.166412 39.94007)              13.0         1 -75.166412   \n",
       "12  POINT (-75.160229 39.976134)              16.0         1 -75.160229   \n",
       "13  POINT (-75.163073 39.977872)              16.0         1 -75.163073   \n",
       "15   POINT (-75.075602 40.04127)               2.0         1 -75.075602   \n",
       "21  POINT (-75.178874 39.975724)              16.0         1 -75.178874   \n",
       "\n",
       "            Y  \n",
       "5   39.940070  \n",
       "12  39.976134  \n",
       "13  39.977872  \n",
       "15  40.041270  \n",
       "21  39.975724  "
      ]
     },
     "execution_count": 34,
     "metadata": {},
     "output_type": "execute_result"
    }
   ],
   "source": [
    "ppd.head()"
   ]
  },
  {
   "cell_type": "code",
   "execution_count": 6,
   "metadata": {
    "collapsed": false
   },
   "outputs": [
    {
     "data": {
      "text/plain": [
       "(34,)"
      ]
     },
     "execution_count": 6,
     "metadata": {},
     "output_type": "execute_result"
    }
   ],
   "source": [
    "ppd['TEXT_GENERAL_CODE'].unique().shape"
   ]
  },
  {
   "cell_type": "code",
   "execution_count": 7,
   "metadata": {
    "collapsed": false
   },
   "outputs": [
    {
     "data": {
      "text/plain": [
       "array(['Other Assaults', 'All Other Offenses', 'Weapon Violations',\n",
       "       'Thefts', 'Burglary Non-Residential', 'Aggravated Assault Firearm',\n",
       "       'Theft from Vehicle', 'Disorderly Conduct',\n",
       "       'Vandalism/Criminal Mischief', 'Arson', 'Fraud',\n",
       "       'Robbery No Firearm', 'Vagrancy/Loitering', 'Motor Vehicle Theft',\n",
       "       'Recovered Stolen Motor Vehicle', 'Robbery Firearm', 'Embezzlement',\n",
       "       'Rape', 'DRIVING UNDER THE INFLUENCE', 'Forgery and Counterfeiting',\n",
       "       'Narcotic / Drug Law Violations', 'Burglary Residential',\n",
       "       'Other Sex Offenses (Not Commercialized)', 'Liquor Law Violations',\n",
       "       'Aggravated Assault No Firearm', 'Homicide - Criminal',\n",
       "       'Gambling Violations', 'Prostitution and Commercialized Vice',\n",
       "       'Public Drunkenness', 'Receiving Stolen Property',\n",
       "       'Homicide - Gross Negligence',\n",
       "       'Offenses Against Family and Children', 'Homicide - Justifiable',\n",
       "       nan], dtype=object)"
      ]
     },
     "execution_count": 7,
     "metadata": {},
     "output_type": "execute_result"
    }
   ],
   "source": [
    "ppd['TEXT_GENERAL_CODE'].unique()"
   ]
  },
  {
   "cell_type": "code",
   "execution_count": 8,
   "metadata": {
    "collapsed": false
   },
   "outputs": [
    {
     "data": {
      "text/plain": [
       "(107103, 12)"
      ]
     },
     "execution_count": 8,
     "metadata": {},
     "output_type": "execute_result"
    }
   ],
   "source": [
    "ppd[ppd['TEXT_GENERAL_CODE']=='Fraud'].shape"
   ]
  },
  {
   "cell_type": "code",
   "execution_count": 9,
   "metadata": {
    "collapsed": false
   },
   "outputs": [
    {
     "data": {
      "text/plain": [
       "(262841, 12)"
      ]
     },
     "execution_count": 9,
     "metadata": {},
     "output_type": "execute_result"
    }
   ],
   "source": [
    "ppd[ppd['TEXT_GENERAL_CODE']=='Other Assaults'].shape"
   ]
  },
  {
   "cell_type": "code",
   "execution_count": 10,
   "metadata": {
    "collapsed": true
   },
   "outputs": [],
   "source": [
    "ppdDict = {1: ['Thefts', 'Theft from Vehicle'], \n",
    "           2: ['Robbery No Firearm', 'Robbery Firearm'], \n",
    "           3: ['Narcotic / Drug Law Violations','Liquor Law Violations','Public Drunkenness'],\n",
    "           4: ['Aggravated Assault Firearm', 'Aggravated Assault No Firearm'],\n",
    "           5: ['Motor Vehicle Theft'],\n",
    "           6: ['Vandalism/Criminal Mischief'],\n",
    "           7: ['Burglary Non-Residential', 'Burglary Residential'],\n",
    "           8: ['Homicide - Criminal','Homicide - Gross Negligence','Homicide - Justifiable'],\n",
    "           9: ['Rape', 'Prostitution and Commercialized Vice'],\n",
    "          10: ['DRIVING UNDER THE INFLUENCE']}"
   ]
  },
  {
   "cell_type": "code",
   "execution_count": 11,
   "metadata": {
    "collapsed": true
   },
   "outputs": [],
   "source": [
    "def get_crime_cat(df, catname, cDict):\n",
    "    df['CrimeCat'] = 0\n",
    "    for key in cDict:\n",
    "        crimes = cDict[key]\n",
    "        df['CrimeCat'] += df[catname].apply(lambda x:\n",
    "                                            key if x in crimes else 0)\n",
    "    df = df.drop(df[df['CrimeCat'] == 0].index)\n",
    "    return df"
   ]
  },
  {
   "cell_type": "code",
   "execution_count": 12,
   "metadata": {
    "collapsed": true
   },
   "outputs": [],
   "source": [
    "ppd = get_crime_cat(ppd, 'TEXT_GENERAL_CODE', ppdDict)"
   ]
  },
  {
   "cell_type": "code",
   "execution_count": 17,
   "metadata": {
    "collapsed": false
   },
   "outputs": [
    {
     "name": "stdout",
     "output_type": "stream",
     "text": [
      "<class 'pandas.core.frame.DataFrame'>\n",
      "Int64Index: 1146145 entries, 5 to 2133069\n",
      "Data columns (total 13 columns):\n",
      "DC_DIST               1146145 non-null int64\n",
      "PSA                   1146145 non-null object\n",
      "DISPATCH_DATE_TIME    1146145 non-null object\n",
      "DISPATCH_DATE         1146145 non-null object\n",
      "DISPATCH_TIME         1146145 non-null object\n",
      "HOUR_                 1146145 non-null int64\n",
      "DC_KEY                1146145 non-null int64\n",
      "LOCATION_BLOCK        1146145 non-null object\n",
      "UCR_GENERAL           1146145 non-null float64\n",
      "TEXT_GENERAL_CODE     1146145 non-null object\n",
      "SHAPE                 1146145 non-null object\n",
      "Police Districts      1146145 non-null float64\n",
      "CrimeCat              1146145 non-null int64\n",
      "dtypes: float64(2), int64(4), object(7)\n",
      "memory usage: 122.4+ MB\n"
     ]
    }
   ],
   "source": [
    "ppd.info()"
   ]
  },
  {
   "cell_type": "code",
   "execution_count": 16,
   "metadata": {
    "collapsed": false
   },
   "outputs": [],
   "source": [
    "ppd = ppd.dropna()"
   ]
  },
  {
   "cell_type": "code",
   "execution_count": 33,
   "metadata": {
    "collapsed": false
   },
   "outputs": [],
   "source": [
    "import re\n",
    "ppd['X'] = ppd['SHAPE'].apply(lambda x: float(re.sub(r'(\\(|\\))', '', x).split()[1]))\n",
    "ppd['Y'] = ppd['SHAPE'].apply(lambda x: float(re.sub(r'(\\(|\\))', '', x).split()[2]))"
   ]
  },
  {
   "cell_type": "code",
   "execution_count": 38,
   "metadata": {
    "collapsed": false
   },
   "outputs": [
    {
     "data": {
      "text/plain": [
       "[39.876252999999998,\n",
       " 39.876263999999999,\n",
       " 39.876325000000001,\n",
       " 39.876409000000002,\n",
       " 39.876416999999996,\n",
       " 39.876671000000002,\n",
       " 39.876854000000002,\n",
       " 39.877344000000001,\n",
       " 39.877347,\n",
       " 39.877349000000002,\n",
       " 39.877355000000001,\n",
       " 39.878,\n",
       " 39.878635000000003,\n",
       " 39.879114999999999,\n",
       " 39.879371999999996,\n",
       " 39.880006000000002,\n",
       " 39.881076999999998,\n",
       " 39.881126000000002,\n",
       " 39.881165000000003,\n",
       " 39.881338]"
      ]
     },
     "execution_count": 38,
     "metadata": {},
     "output_type": "execute_result"
    }
   ],
   "source": [
    "sorted(ppd['Y'].unique())[:20]"
   ]
  },
  {
   "cell_type": "code",
   "execution_count": null,
   "metadata": {
    "collapsed": true
   },
   "outputs": [],
   "source": []
  }
 ],
 "metadata": {
  "anaconda-cloud": {},
  "kernelspec": {
   "display_name": "Python [Root]",
   "language": "python",
   "name": "Python [Root]"
  },
  "language_info": {
   "codemirror_mode": {
    "name": "ipython",
    "version": 2
   },
   "file_extension": ".py",
   "mimetype": "text/x-python",
   "name": "python",
   "nbconvert_exporter": "python",
   "pygments_lexer": "ipython2",
   "version": "2.7.12"
  }
 },
 "nbformat": 4,
 "nbformat_minor": 0
}
