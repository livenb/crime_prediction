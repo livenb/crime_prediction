{
 "cells": [
  {
   "cell_type": "code",
   "execution_count": 1,
   "metadata": {
    "collapsed": true
   },
   "outputs": [],
   "source": [
    "import pandas as pd"
   ]
  },
  {
   "cell_type": "code",
   "execution_count": 2,
   "metadata": {
    "collapsed": true
   },
   "outputs": [],
   "source": [
    "dpdfile = '../data/DPD.csv'"
   ]
  },
  {
   "cell_type": "code",
   "execution_count": 3,
   "metadata": {
    "collapsed": false
   },
   "outputs": [
    {
     "name": "stderr",
     "output_type": "stream",
     "text": [
      "/Users/livenb/anaconda/lib/python2.7/site-packages/IPython/core/interactiveshell.py:2723: DtypeWarning: Columns (3) have mixed types. Specify dtype option on import or set low_memory=False.\n",
      "  interactivity=interactivity, compiler=compiler, result=result)\n"
     ]
    }
   ],
   "source": [
    "detroitdata = pd.read_csv(dpdfile)"
   ]
  },
  {
   "cell_type": "code",
   "execution_count": 4,
   "metadata": {
    "collapsed": false
   },
   "outputs": [
    {
     "name": "stdout",
     "output_type": "stream",
     "text": [
      "<class 'pandas.core.frame.DataFrame'>\n",
      "RangeIndex: 1161923 entries, 0 to 1161922\n",
      "Data columns (total 18 columns):\n",
      "ROWNUM                   1161923 non-null int64\n",
      "CASEID                   1161923 non-null int64\n",
      "CRIMEID                  1161923 non-null int64\n",
      "CRNO                     1161923 non-null object\n",
      "ADDRESS                  1161923 non-null object\n",
      "CATEGORY                 1161923 non-null object\n",
      "OFFENSEDESCRIPTION       1161863 non-null object\n",
      "STATEOFFENSEFILECLASS    1161863 non-null float64\n",
      "INCIDENTDATE             1161923 non-null object\n",
      "HOUR                     1161923 non-null int64\n",
      "SCA                      1153746 non-null float64\n",
      "PRECINCT                 1153746 non-null float64\n",
      "COUNCIL                  1137646 non-null object\n",
      "NEIGHBORHOOD             1148433 non-null object\n",
      "CENSUSTRACT              1080551 non-null float64\n",
      "LON                      1161922 non-null float64\n",
      "LAT                      1161922 non-null float64\n",
      "LOCATION                 1161923 non-null object\n",
      "dtypes: float64(6), int64(4), object(8)\n",
      "memory usage: 159.6+ MB\n"
     ]
    }
   ],
   "source": [
    "detroitdata.info()"
   ]
  },
  {
   "cell_type": "code",
   "execution_count": 5,
   "metadata": {
    "collapsed": false
   },
   "outputs": [
    {
     "data": {
      "text/html": [
       "<div>\n",
       "<table border=\"1\" class=\"dataframe\">\n",
       "  <thead>\n",
       "    <tr style=\"text-align: right;\">\n",
       "      <th></th>\n",
       "      <th>ROWNUM</th>\n",
       "      <th>CASEID</th>\n",
       "      <th>CRIMEID</th>\n",
       "      <th>CRNO</th>\n",
       "      <th>ADDRESS</th>\n",
       "      <th>CATEGORY</th>\n",
       "      <th>OFFENSEDESCRIPTION</th>\n",
       "      <th>STATEOFFENSEFILECLASS</th>\n",
       "      <th>INCIDENTDATE</th>\n",
       "      <th>HOUR</th>\n",
       "      <th>SCA</th>\n",
       "      <th>PRECINCT</th>\n",
       "      <th>COUNCIL</th>\n",
       "      <th>NEIGHBORHOOD</th>\n",
       "      <th>CENSUSTRACT</th>\n",
       "      <th>LON</th>\n",
       "      <th>LAT</th>\n",
       "      <th>LOCATION</th>\n",
       "    </tr>\n",
       "  </thead>\n",
       "  <tbody>\n",
       "    <tr>\n",
       "      <th>0</th>\n",
       "      <td>1</td>\n",
       "      <td>1099487</td>\n",
       "      <td>1321797</td>\n",
       "      <td>0910020373.1</td>\n",
       "      <td>18000 WEXFORD</td>\n",
       "      <td>MISCELLANEOUS</td>\n",
       "      <td>MISCELLANEOUS - GENERAL NON-CRIMINAL</td>\n",
       "      <td>99009.0</td>\n",
       "      <td>01/01/2009</td>\n",
       "      <td>0</td>\n",
       "      <td>1107.0</td>\n",
       "      <td>11.0</td>\n",
       "      <td>City Council District 3</td>\n",
       "      <td>CONANT GARDENS</td>\n",
       "      <td>5070.0</td>\n",
       "      <td>-83.0649</td>\n",
       "      <td>42.4261</td>\n",
       "      <td>WEXFORD\\n18000\\n(42.4263, -83.0652)</td>\n",
       "    </tr>\n",
       "    <tr>\n",
       "      <th>1</th>\n",
       "      <td>2</td>\n",
       "      <td>1117507</td>\n",
       "      <td>1344185</td>\n",
       "      <td>0911060289.1</td>\n",
       "      <td>00 UNKNOWN</td>\n",
       "      <td>MISCELLANEOUS</td>\n",
       "      <td>MISCELLANEOUS - GENERAL NON-CRIMINAL</td>\n",
       "      <td>99009.0</td>\n",
       "      <td>01/01/2009</td>\n",
       "      <td>0</td>\n",
       "      <td>NaN</td>\n",
       "      <td>NaN</td>\n",
       "      <td>NaN</td>\n",
       "      <td>NaN</td>\n",
       "      <td>9999999.0</td>\n",
       "      <td>999999.0001</td>\n",
       "      <td>999999.0000</td>\n",
       "      <td>00 UNKNOWN\\n(999999.0001, 999998.9999)</td>\n",
       "    </tr>\n",
       "    <tr>\n",
       "      <th>2</th>\n",
       "      <td>3</td>\n",
       "      <td>985415</td>\n",
       "      <td>1181882</td>\n",
       "      <td>0902190512.1</td>\n",
       "      <td>02000 CALVERT</td>\n",
       "      <td>MISCELLANEOUS</td>\n",
       "      <td>MISCELLANEOUS - ABANDONED VEHICLE</td>\n",
       "      <td>99009.0</td>\n",
       "      <td>01/01/2009</td>\n",
       "      <td>0</td>\n",
       "      <td>1005.0</td>\n",
       "      <td>10.0</td>\n",
       "      <td>City Council District 5</td>\n",
       "      <td>PECK</td>\n",
       "      <td>5313.0</td>\n",
       "      <td>-83.1058</td>\n",
       "      <td>42.3821</td>\n",
       "      <td>CALVERT\\n02000\\n(42.3821, -83.1056)</td>\n",
       "    </tr>\n",
       "    <tr>\n",
       "      <th>3</th>\n",
       "      <td>4</td>\n",
       "      <td>986019</td>\n",
       "      <td>1182632</td>\n",
       "      <td>0902200294.1</td>\n",
       "      <td>00 W GRAND BLVD AND W FORT</td>\n",
       "      <td>MISCELLANEOUS</td>\n",
       "      <td>MISCELLANEOUS - GENERAL NON-CRIMINAL</td>\n",
       "      <td>99009.0</td>\n",
       "      <td>01/01/2009</td>\n",
       "      <td>0</td>\n",
       "      <td>414.0</td>\n",
       "      <td>4.0</td>\n",
       "      <td>City Council District 6</td>\n",
       "      <td>HUBBARD-RICHARD</td>\n",
       "      <td>5211.0</td>\n",
       "      <td>-83.0830</td>\n",
       "      <td>42.3145</td>\n",
       "      <td>00 W GRAND BLVD AND W FORT\\n(42.3146, -83.0831)</td>\n",
       "    </tr>\n",
       "    <tr>\n",
       "      <th>4</th>\n",
       "      <td>5</td>\n",
       "      <td>996883</td>\n",
       "      <td>1195867</td>\n",
       "      <td>0903170149.1</td>\n",
       "      <td>12500 CONNER</td>\n",
       "      <td>LARCENY</td>\n",
       "      <td>LARCENY - FROM BUILDING (INCLUDES LIBRARY, OFF...</td>\n",
       "      <td>23003.0</td>\n",
       "      <td>01/01/2009</td>\n",
       "      <td>0</td>\n",
       "      <td>908.0</td>\n",
       "      <td>9.0</td>\n",
       "      <td>City Council District 3</td>\n",
       "      <td>BURBANK</td>\n",
       "      <td>5052.0</td>\n",
       "      <td>-83.0080</td>\n",
       "      <td>42.4134</td>\n",
       "      <td>CONNER\\n12500\\n(42.4134, -83.0079)</td>\n",
       "    </tr>\n",
       "  </tbody>\n",
       "</table>\n",
       "</div>"
      ],
      "text/plain": [
       "   ROWNUM   CASEID  CRIMEID          CRNO                     ADDRESS  \\\n",
       "0       1  1099487  1321797  0910020373.1               18000 WEXFORD   \n",
       "1       2  1117507  1344185  0911060289.1                  00 UNKNOWN   \n",
       "2       3   985415  1181882  0902190512.1               02000 CALVERT   \n",
       "3       4   986019  1182632  0902200294.1  00 W GRAND BLVD AND W FORT   \n",
       "4       5   996883  1195867  0903170149.1                12500 CONNER   \n",
       "\n",
       "        CATEGORY                                 OFFENSEDESCRIPTION  \\\n",
       "0  MISCELLANEOUS               MISCELLANEOUS - GENERAL NON-CRIMINAL   \n",
       "1  MISCELLANEOUS               MISCELLANEOUS - GENERAL NON-CRIMINAL   \n",
       "2  MISCELLANEOUS                  MISCELLANEOUS - ABANDONED VEHICLE   \n",
       "3  MISCELLANEOUS               MISCELLANEOUS - GENERAL NON-CRIMINAL   \n",
       "4        LARCENY  LARCENY - FROM BUILDING (INCLUDES LIBRARY, OFF...   \n",
       "\n",
       "   STATEOFFENSEFILECLASS INCIDENTDATE  HOUR     SCA  PRECINCT  \\\n",
       "0                99009.0   01/01/2009     0  1107.0      11.0   \n",
       "1                99009.0   01/01/2009     0     NaN       NaN   \n",
       "2                99009.0   01/01/2009     0  1005.0      10.0   \n",
       "3                99009.0   01/01/2009     0   414.0       4.0   \n",
       "4                23003.0   01/01/2009     0   908.0       9.0   \n",
       "\n",
       "                   COUNCIL     NEIGHBORHOOD  CENSUSTRACT          LON  \\\n",
       "0  City Council District 3   CONANT GARDENS       5070.0     -83.0649   \n",
       "1                      NaN              NaN    9999999.0  999999.0001   \n",
       "2  City Council District 5             PECK       5313.0     -83.1058   \n",
       "3  City Council District 6  HUBBARD-RICHARD       5211.0     -83.0830   \n",
       "4  City Council District 3          BURBANK       5052.0     -83.0080   \n",
       "\n",
       "           LAT                                         LOCATION  \n",
       "0      42.4261              WEXFORD\\n18000\\n(42.4263, -83.0652)  \n",
       "1  999999.0000           00 UNKNOWN\\n(999999.0001, 999998.9999)  \n",
       "2      42.3821              CALVERT\\n02000\\n(42.3821, -83.1056)  \n",
       "3      42.3145  00 W GRAND BLVD AND W FORT\\n(42.3146, -83.0831)  \n",
       "4      42.4134               CONNER\\n12500\\n(42.4134, -83.0079)  "
      ]
     },
     "execution_count": 5,
     "metadata": {},
     "output_type": "execute_result"
    }
   ],
   "source": [
    "detroitdata.head()"
   ]
  },
  {
   "cell_type": "code",
   "execution_count": 6,
   "metadata": {
    "collapsed": false
   },
   "outputs": [
    {
     "data": {
      "text/plain": [
       "array(['MISCELLANEOUS', 'LARCENY', 'FRAUD', 'ASSAULT',\n",
       "       'DAMAGE TO PROPERTY', 'MURDER/INFORMATION', 'AGGRAVATED ASSAULT',\n",
       "       'WEAPONS OFFENSES', 'BURGLARY', 'STOLEN VEHICLE', 'DANGEROUS DRUGS',\n",
       "       'ESCAPE', 'OBSTRUCTING THE POLICE', 'OBSTRUCTING JUDICIARY',\n",
       "       'ROBBERY', 'EXTORTION', 'HOMICIDE', 'OUIL', 'TRAFFIC',\n",
       "       'DISORDERLY CONDUCT', 'ARSON', 'STOLEN PROPERTY', 'OTHER BURGLARY',\n",
       "       'EMBEZZLEMENT', 'FAMILY OFFENSE', 'KIDNAPING', 'FORGERY',\n",
       "       'SOLICITATION', 'OTHER', 'IMMIGRATION', 'VAGRANCY (OTHER)', 'CIVIL',\n",
       "       'LIQUOR', 'RUNAWAY', 'ENVIRONMENT', 'JUSTIFIABLE HOMICIDE',\n",
       "       'OBSCENITY', 'TRAFFIC OFFENSES', 'NEGLIGENT HOMICIDE',\n",
       "       'MISCELLANEOUS ARREST', 'GAMBLING', 'BRIBERY', 'DRUNKENNESS',\n",
       "       'MILITARY', 'ABORTION', 'KIDNAPPING'], dtype=object)"
      ]
     },
     "execution_count": 6,
     "metadata": {},
     "output_type": "execute_result"
    }
   ],
   "source": [
    "detroitdata['CATEGORY'].unique()"
   ]
  },
  {
   "cell_type": "code",
   "execution_count": 7,
   "metadata": {
    "collapsed": false
   },
   "outputs": [
    {
     "data": {
      "text/plain": [
       "(46,)"
      ]
     },
     "execution_count": 7,
     "metadata": {},
     "output_type": "execute_result"
    }
   ],
   "source": [
    "detroitdata['CATEGORY'].unique().shape"
   ]
  },
  {
   "cell_type": "code",
   "execution_count": null,
   "metadata": {
    "collapsed": true
   },
   "outputs": [],
   "source": []
  }
 ],
 "metadata": {
  "kernelspec": {
   "display_name": "Python [Root]",
   "language": "python",
   "name": "Python [Root]"
  },
  "language_info": {
   "codemirror_mode": {
    "name": "ipython",
    "version": 2
   },
   "file_extension": ".py",
   "mimetype": "text/x-python",
   "name": "python",
   "nbconvert_exporter": "python",
   "pygments_lexer": "ipython2",
   "version": "2.7.12"
  }
 },
 "nbformat": 4,
 "nbformat_minor": 0
}
