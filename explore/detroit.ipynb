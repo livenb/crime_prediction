{
 "cells": [
  {
   "cell_type": "code",
   "execution_count": 1,
   "metadata": {
    "collapsed": true
   },
   "outputs": [],
   "source": [
    "import pandas as pd"
   ]
  },
  {
   "cell_type": "code",
   "execution_count": 2,
   "metadata": {
    "collapsed": true
   },
   "outputs": [],
   "source": [
    "dpdfile = '../data/DPD.csv'"
   ]
  },
  {
   "cell_type": "code",
   "execution_count": 3,
   "metadata": {
    "collapsed": false
   },
   "outputs": [
    {
     "name": "stderr",
     "output_type": "stream",
     "text": [
      "/Users/livenb/anaconda/lib/python2.7/site-packages/IPython/core/interactiveshell.py:2723: DtypeWarning: Columns (3) have mixed types. Specify dtype option on import or set low_memory=False.\n",
      "  interactivity=interactivity, compiler=compiler, result=result)\n"
     ]
    }
   ],
   "source": [
    "detroitdata = pd.read_csv(dpdfile)"
   ]
  },
  {
   "cell_type": "code",
   "execution_count": 4,
   "metadata": {
    "collapsed": false
   },
   "outputs": [
    {
     "name": "stdout",
     "output_type": "stream",
     "text": [
      "<class 'pandas.core.frame.DataFrame'>\n",
      "RangeIndex: 1161923 entries, 0 to 1161922\n",
      "Data columns (total 18 columns):\n",
      "ROWNUM                   1161923 non-null int64\n",
      "CASEID                   1161923 non-null int64\n",
      "CRIMEID                  1161923 non-null int64\n",
      "CRNO                     1161923 non-null object\n",
      "ADDRESS                  1161923 non-null object\n",
      "CATEGORY                 1161923 non-null object\n",
      "OFFENSEDESCRIPTION       1161863 non-null object\n",
      "STATEOFFENSEFILECLASS    1161863 non-null float64\n",
      "INCIDENTDATE             1161923 non-null object\n",
      "HOUR                     1161923 non-null int64\n",
      "SCA                      1153746 non-null float64\n",
      "PRECINCT                 1153746 non-null float64\n",
      "COUNCIL                  1137646 non-null object\n",
      "NEIGHBORHOOD             1148433 non-null object\n",
      "CENSUSTRACT              1080551 non-null float64\n",
      "LON                      1161922 non-null float64\n",
      "LAT                      1161922 non-null float64\n",
      "LOCATION                 1161923 non-null object\n",
      "dtypes: float64(6), int64(4), object(8)\n",
      "memory usage: 159.6+ MB\n"
     ]
    }
   ],
   "source": [
    "detroitdata.info()"
   ]
  },
  {
   "cell_type": "code",
   "execution_count": 5,
   "metadata": {
    "collapsed": false
   },
   "outputs": [
    {
     "data": {
      "text/html": [
       "<div>\n",
       "<table border=\"1\" class=\"dataframe\">\n",
       "  <thead>\n",
       "    <tr style=\"text-align: right;\">\n",
       "      <th></th>\n",
       "      <th>ROWNUM</th>\n",
       "      <th>CASEID</th>\n",
       "      <th>CRIMEID</th>\n",
       "      <th>CRNO</th>\n",
       "      <th>ADDRESS</th>\n",
       "      <th>CATEGORY</th>\n",
       "      <th>OFFENSEDESCRIPTION</th>\n",
       "      <th>STATEOFFENSEFILECLASS</th>\n",
       "      <th>INCIDENTDATE</th>\n",
       "      <th>HOUR</th>\n",
       "      <th>SCA</th>\n",
       "      <th>PRECINCT</th>\n",
       "      <th>COUNCIL</th>\n",
       "      <th>NEIGHBORHOOD</th>\n",
       "      <th>CENSUSTRACT</th>\n",
       "      <th>LON</th>\n",
       "      <th>LAT</th>\n",
       "      <th>LOCATION</th>\n",
       "    </tr>\n",
       "  </thead>\n",
       "  <tbody>\n",
       "    <tr>\n",
       "      <th>0</th>\n",
       "      <td>1</td>\n",
       "      <td>1099487</td>\n",
       "      <td>1321797</td>\n",
       "      <td>0910020373.1</td>\n",
       "      <td>18000 WEXFORD</td>\n",
       "      <td>MISCELLANEOUS</td>\n",
       "      <td>MISCELLANEOUS - GENERAL NON-CRIMINAL</td>\n",
       "      <td>99009.0</td>\n",
       "      <td>01/01/2009</td>\n",
       "      <td>0</td>\n",
       "      <td>1107.0</td>\n",
       "      <td>11.0</td>\n",
       "      <td>City Council District 3</td>\n",
       "      <td>CONANT GARDENS</td>\n",
       "      <td>5070.0</td>\n",
       "      <td>-83.0649</td>\n",
       "      <td>42.4261</td>\n",
       "      <td>WEXFORD\\n18000\\n(42.4263, -83.0652)</td>\n",
       "    </tr>\n",
       "    <tr>\n",
       "      <th>1</th>\n",
       "      <td>2</td>\n",
       "      <td>1117507</td>\n",
       "      <td>1344185</td>\n",
       "      <td>0911060289.1</td>\n",
       "      <td>00 UNKNOWN</td>\n",
       "      <td>MISCELLANEOUS</td>\n",
       "      <td>MISCELLANEOUS - GENERAL NON-CRIMINAL</td>\n",
       "      <td>99009.0</td>\n",
       "      <td>01/01/2009</td>\n",
       "      <td>0</td>\n",
       "      <td>NaN</td>\n",
       "      <td>NaN</td>\n",
       "      <td>NaN</td>\n",
       "      <td>NaN</td>\n",
       "      <td>9999999.0</td>\n",
       "      <td>999999.0001</td>\n",
       "      <td>999999.0000</td>\n",
       "      <td>00 UNKNOWN\\n(999999.0001, 999998.9999)</td>\n",
       "    </tr>\n",
       "    <tr>\n",
       "      <th>2</th>\n",
       "      <td>3</td>\n",
       "      <td>985415</td>\n",
       "      <td>1181882</td>\n",
       "      <td>0902190512.1</td>\n",
       "      <td>02000 CALVERT</td>\n",
       "      <td>MISCELLANEOUS</td>\n",
       "      <td>MISCELLANEOUS - ABANDONED VEHICLE</td>\n",
       "      <td>99009.0</td>\n",
       "      <td>01/01/2009</td>\n",
       "      <td>0</td>\n",
       "      <td>1005.0</td>\n",
       "      <td>10.0</td>\n",
       "      <td>City Council District 5</td>\n",
       "      <td>PECK</td>\n",
       "      <td>5313.0</td>\n",
       "      <td>-83.1058</td>\n",
       "      <td>42.3821</td>\n",
       "      <td>CALVERT\\n02000\\n(42.3821, -83.1056)</td>\n",
       "    </tr>\n",
       "    <tr>\n",
       "      <th>3</th>\n",
       "      <td>4</td>\n",
       "      <td>986019</td>\n",
       "      <td>1182632</td>\n",
       "      <td>0902200294.1</td>\n",
       "      <td>00 W GRAND BLVD AND W FORT</td>\n",
       "      <td>MISCELLANEOUS</td>\n",
       "      <td>MISCELLANEOUS - GENERAL NON-CRIMINAL</td>\n",
       "      <td>99009.0</td>\n",
       "      <td>01/01/2009</td>\n",
       "      <td>0</td>\n",
       "      <td>414.0</td>\n",
       "      <td>4.0</td>\n",
       "      <td>City Council District 6</td>\n",
       "      <td>HUBBARD-RICHARD</td>\n",
       "      <td>5211.0</td>\n",
       "      <td>-83.0830</td>\n",
       "      <td>42.3145</td>\n",
       "      <td>00 W GRAND BLVD AND W FORT\\n(42.3146, -83.0831)</td>\n",
       "    </tr>\n",
       "    <tr>\n",
       "      <th>4</th>\n",
       "      <td>5</td>\n",
       "      <td>996883</td>\n",
       "      <td>1195867</td>\n",
       "      <td>0903170149.1</td>\n",
       "      <td>12500 CONNER</td>\n",
       "      <td>LARCENY</td>\n",
       "      <td>LARCENY - FROM BUILDING (INCLUDES LIBRARY, OFF...</td>\n",
       "      <td>23003.0</td>\n",
       "      <td>01/01/2009</td>\n",
       "      <td>0</td>\n",
       "      <td>908.0</td>\n",
       "      <td>9.0</td>\n",
       "      <td>City Council District 3</td>\n",
       "      <td>BURBANK</td>\n",
       "      <td>5052.0</td>\n",
       "      <td>-83.0080</td>\n",
       "      <td>42.4134</td>\n",
       "      <td>CONNER\\n12500\\n(42.4134, -83.0079)</td>\n",
       "    </tr>\n",
       "  </tbody>\n",
       "</table>\n",
       "</div>"
      ],
      "text/plain": [
       "   ROWNUM   CASEID  CRIMEID          CRNO                     ADDRESS  \\\n",
       "0       1  1099487  1321797  0910020373.1               18000 WEXFORD   \n",
       "1       2  1117507  1344185  0911060289.1                  00 UNKNOWN   \n",
       "2       3   985415  1181882  0902190512.1               02000 CALVERT   \n",
       "3       4   986019  1182632  0902200294.1  00 W GRAND BLVD AND W FORT   \n",
       "4       5   996883  1195867  0903170149.1                12500 CONNER   \n",
       "\n",
       "        CATEGORY                                 OFFENSEDESCRIPTION  \\\n",
       "0  MISCELLANEOUS               MISCELLANEOUS - GENERAL NON-CRIMINAL   \n",
       "1  MISCELLANEOUS               MISCELLANEOUS - GENERAL NON-CRIMINAL   \n",
       "2  MISCELLANEOUS                  MISCELLANEOUS - ABANDONED VEHICLE   \n",
       "3  MISCELLANEOUS               MISCELLANEOUS - GENERAL NON-CRIMINAL   \n",
       "4        LARCENY  LARCENY - FROM BUILDING (INCLUDES LIBRARY, OFF...   \n",
       "\n",
       "   STATEOFFENSEFILECLASS INCIDENTDATE  HOUR     SCA  PRECINCT  \\\n",
       "0                99009.0   01/01/2009     0  1107.0      11.0   \n",
       "1                99009.0   01/01/2009     0     NaN       NaN   \n",
       "2                99009.0   01/01/2009     0  1005.0      10.0   \n",
       "3                99009.0   01/01/2009     0   414.0       4.0   \n",
       "4                23003.0   01/01/2009     0   908.0       9.0   \n",
       "\n",
       "                   COUNCIL     NEIGHBORHOOD  CENSUSTRACT          LON  \\\n",
       "0  City Council District 3   CONANT GARDENS       5070.0     -83.0649   \n",
       "1                      NaN              NaN    9999999.0  999999.0001   \n",
       "2  City Council District 5             PECK       5313.0     -83.1058   \n",
       "3  City Council District 6  HUBBARD-RICHARD       5211.0     -83.0830   \n",
       "4  City Council District 3          BURBANK       5052.0     -83.0080   \n",
       "\n",
       "           LAT                                         LOCATION  \n",
       "0      42.4261              WEXFORD\\n18000\\n(42.4263, -83.0652)  \n",
       "1  999999.0000           00 UNKNOWN\\n(999999.0001, 999998.9999)  \n",
       "2      42.3821              CALVERT\\n02000\\n(42.3821, -83.1056)  \n",
       "3      42.3145  00 W GRAND BLVD AND W FORT\\n(42.3146, -83.0831)  \n",
       "4      42.4134               CONNER\\n12500\\n(42.4134, -83.0079)  "
      ]
     },
     "execution_count": 5,
     "metadata": {},
     "output_type": "execute_result"
    }
   ],
   "source": [
    "detroitdata.head()"
   ]
  },
  {
   "cell_type": "code",
   "execution_count": 6,
   "metadata": {
    "collapsed": false
   },
   "outputs": [
    {
     "data": {
      "text/plain": [
       "(8581, 18)"
      ]
     },
     "execution_count": 6,
     "metadata": {},
     "output_type": "execute_result"
    }
   ],
   "source": [
    "detroitdata[detroitdata['CATEGORY']=='OUIL'].shape"
   ]
  },
  {
   "cell_type": "code",
   "execution_count": 7,
   "metadata": {
    "collapsed": false
   },
   "outputs": [
    {
     "data": {
      "text/plain": [
       "array(['DESERTION', 'AWOL', 'MILITARY (OTHER)'], dtype=object)"
      ]
     },
     "execution_count": 7,
     "metadata": {},
     "output_type": "execute_result"
    }
   ],
   "source": [
    "detroitdata[detroitdata['CATEGORY']=='MILITARY']['OFFENSEDESCRIPTION'].unique()"
   ]
  },
  {
   "cell_type": "code",
   "execution_count": 8,
   "metadata": {
    "collapsed": false
   },
   "outputs": [
    {
     "data": {
      "text/plain": [
       "array(['MISCELLANEOUS', 'LARCENY', 'FRAUD', 'ASSAULT',\n",
       "       'DAMAGE TO PROPERTY', 'MURDER/INFORMATION', 'AGGRAVATED ASSAULT',\n",
       "       'WEAPONS OFFENSES', 'BURGLARY', 'STOLEN VEHICLE', 'DANGEROUS DRUGS',\n",
       "       'ESCAPE', 'OBSTRUCTING THE POLICE', 'OBSTRUCTING JUDICIARY',\n",
       "       'ROBBERY', 'EXTORTION', 'HOMICIDE', 'OUIL', 'TRAFFIC',\n",
       "       'DISORDERLY CONDUCT', 'ARSON', 'STOLEN PROPERTY', 'OTHER BURGLARY',\n",
       "       'EMBEZZLEMENT', 'FAMILY OFFENSE', 'KIDNAPING', 'FORGERY',\n",
       "       'SOLICITATION', 'OTHER', 'IMMIGRATION', 'VAGRANCY (OTHER)', 'CIVIL',\n",
       "       'LIQUOR', 'RUNAWAY', 'ENVIRONMENT', 'JUSTIFIABLE HOMICIDE',\n",
       "       'OBSCENITY', 'TRAFFIC OFFENSES', 'NEGLIGENT HOMICIDE',\n",
       "       'MISCELLANEOUS ARREST', 'GAMBLING', 'BRIBERY', 'DRUNKENNESS',\n",
       "       'MILITARY', 'ABORTION', 'KIDNAPPING'], dtype=object)"
      ]
     },
     "execution_count": 8,
     "metadata": {},
     "output_type": "execute_result"
    }
   ],
   "source": [
    "detroitdata['CATEGORY'].unique()"
   ]
  },
  {
   "cell_type": "code",
   "execution_count": 9,
   "metadata": {
    "collapsed": false
   },
   "outputs": [
    {
     "data": {
      "text/plain": [
       "(46,)"
      ]
     },
     "execution_count": 9,
     "metadata": {},
     "output_type": "execute_result"
    }
   ],
   "source": [
    "detroitdata['CATEGORY'].unique().shape"
   ]
  },
  {
   "cell_type": "code",
   "execution_count": 10,
   "metadata": {
    "collapsed": true
   },
   "outputs": [],
   "source": [
    "dpdDict = {1: ['LARCENY'],\n",
    "           2: ['ROBBERY'],\n",
    "           3: ['DANGEROUS DRUGS', 'DRUNKENNESS', 'LIQUOR'],\n",
    "           4: ['ASSAULT', 'AGGRAVATED ASSAULT'],\n",
    "           5: ['STOLEN VEHICLE'],\n",
    "           6: ['DAMAGE TO PROPERTY'],\n",
    "           7: ['OTHER BURGLARY', 'BURGLARY'],\n",
    "           8: ['HOMICIDE', 'JUSTIFIABLE HOMICIDE', 'NEGLIGENT HOMICIDE'],\n",
    "           9: ['OBSCENITY'],\n",
    "           10: ['OUIL']}"
   ]
  },
  {
   "cell_type": "code",
   "execution_count": 11,
   "metadata": {
    "collapsed": true
   },
   "outputs": [],
   "source": [
    "def get_crime_cat(df, catname, cDict):\n",
    "    df['CrimeCat'] = 0\n",
    "    for key in cDict:\n",
    "        crimes = cDict[key]\n",
    "        df['CrimeCat'] += df[catname].apply(lambda x:\n",
    "                                            key if x in crimes else 0)\n",
    "    df = df.drop(df[df['CrimeCat'] == 0].index)\n",
    "    return df"
   ]
  },
  {
   "cell_type": "code",
   "execution_count": 12,
   "metadata": {
    "collapsed": true
   },
   "outputs": [],
   "source": [
    "detroitdata = get_crime_cat(detroitdata, 'CATEGORY', dpdDict)"
   ]
  },
  {
   "cell_type": "code",
   "execution_count": null,
   "metadata": {
    "collapsed": false
   },
   "outputs": [],
   "source": []
  },
  {
   "cell_type": "code",
   "execution_count": 13,
   "metadata": {
    "collapsed": false
   },
   "outputs": [
    {
     "data": {
      "text/plain": [
       "[-122.3351,\n",
       " -112.2051,\n",
       " -99.399000000000001,\n",
       " -99.249499999999998,\n",
       " -99.098399999999998,\n",
       " -97.104299999999995,\n",
       " -94.102500000000006,\n",
       " -90.023099999999999,\n",
       " -88.173599999999993,\n",
       " -87.313999999999993,\n",
       " -86.870699999999999,\n",
       " -86.870500000000007,\n",
       " -86.609800000000007,\n",
       " -86.550200000000004,\n",
       " -86.311499999999995,\n",
       " -86.311300000000003,\n",
       " -85.829999999999998,\n",
       " -85.637,\n",
       " -85.518600000000006,\n",
       " -85.168999999999997]"
      ]
     },
     "execution_count": 13,
     "metadata": {},
     "output_type": "execute_result"
    }
   ],
   "source": [
    "sorted(detroitdata['LON'].unique())[:20]"
   ]
  },
  {
   "cell_type": "code",
   "execution_count": 14,
   "metadata": {
    "collapsed": false
   },
   "outputs": [
    {
     "data": {
      "text/plain": [
       "2"
      ]
     },
     "execution_count": 14,
     "metadata": {},
     "output_type": "execute_result"
    }
   ],
   "source": [
    "sum(detroitdata['LON'] < -100)"
   ]
  },
  {
   "cell_type": "code",
   "execution_count": 15,
   "metadata": {
    "collapsed": false
   },
   "outputs": [
    {
     "data": {
      "text/plain": [
       "[999999.00009999995,\n",
       " 999999.0,\n",
       " 999998.99990000005,\n",
       " 999998.99979999999,\n",
       " 77.5929,\n",
       " 18.395600000000002,\n",
       " 16.433299999999999,\n",
       " 15.123900000000001,\n",
       " 14.711499999999999,\n",
       " 14.6402,\n",
       " 14.5182,\n",
       " 14.3429,\n",
       " 14.3428,\n",
       " 14.200900000000001,\n",
       " 12.8009,\n",
       " 12.7826,\n",
       " 12.627000000000001,\n",
       " 12.626799999999999,\n",
       " 12.6267]"
      ]
     },
     "execution_count": 15,
     "metadata": {},
     "output_type": "execute_result"
    }
   ],
   "source": [
    "sorted(detroitdata['LON'].unique())[:-20:-1]"
   ]
  },
  {
   "cell_type": "code",
   "execution_count": 16,
   "metadata": {
    "collapsed": false
   },
   "outputs": [
    {
     "data": {
      "text/plain": [
       "1131"
      ]
     },
     "execution_count": 16,
     "metadata": {},
     "output_type": "execute_result"
    }
   ],
   "source": [
    "sum(detroitdata['LON'] > 20)"
   ]
  },
  {
   "cell_type": "code",
   "execution_count": 17,
   "metadata": {
    "collapsed": true
   },
   "outputs": [],
   "source": [
    "detroitdata = detroitdata.drop(detroitdata[(detroitdata['LON'] < -100) | (detroitdata['LON'] > 20)].index)"
   ]
  },
  {
   "cell_type": "code",
   "execution_count": 18,
   "metadata": {
    "collapsed": false
   },
   "outputs": [
    {
     "data": {
      "text/plain": [
       "array([ 0,  1,  2,  3,  4,  5,  6,  7,  8,  9, 10, 11, 12, 13, 14, 15, 16,\n",
       "       17, 18, 19, 20, 21, 22, 23])"
      ]
     },
     "execution_count": 18,
     "metadata": {},
     "output_type": "execute_result"
    }
   ],
   "source": [
    "detroitdata['HOUR'].unique()"
   ]
  },
  {
   "cell_type": "code",
   "execution_count": 19,
   "metadata": {
    "collapsed": false
   },
   "outputs": [],
   "source": [
    "detroitdata['month'] = detroitdata['INCIDENTDATE'].apply(lambda x: int(x.split('/')[0]))\n",
    "detroitdata['day'] = detroitdata['INCIDENTDATE'].apply(lambda x: int(x.split('/')[1]))\n",
    "detroitdata['year'] = detroitdata['INCIDENTDATE'].apply(lambda x: int(x.split('/')[2]))"
   ]
  },
  {
   "cell_type": "code",
   "execution_count": 20,
   "metadata": {
    "collapsed": false
   },
   "outputs": [
    {
     "data": {
      "text/plain": [
       "9.0     86363\n",
       "8.0     83093\n",
       "3.0     77627\n",
       "12.0    75139\n",
       "6.0     70268\n",
       "2.0     61290\n",
       "10.0    59093\n",
       "11.0    54343\n",
       "4.0     51848\n",
       "7.0     51171\n",
       "5.0     50620\n",
       "99.0     5391\n",
       "Name: PRECINCT, dtype: int64"
      ]
     },
     "execution_count": 20,
     "metadata": {},
     "output_type": "execute_result"
    }
   ],
   "source": [
    "detroitdata['PRECINCT'].value_counts()"
   ]
  },
  {
   "cell_type": "code",
   "execution_count": 21,
   "metadata": {
    "collapsed": false
   },
   "outputs": [
    {
     "name": "stdout",
     "output_type": "stream",
     "text": [
      "<class 'pandas.core.frame.DataFrame'>\n",
      "Int64Index: 728443 entries, 4 to 1161922\n",
      "Data columns (total 22 columns):\n",
      "ROWNUM                   728443 non-null int64\n",
      "CASEID                   728443 non-null int64\n",
      "CRIMEID                  728443 non-null int64\n",
      "CRNO                     728443 non-null object\n",
      "ADDRESS                  728443 non-null object\n",
      "CATEGORY                 728443 non-null object\n",
      "OFFENSEDESCRIPTION       728443 non-null object\n",
      "STATEOFFENSEFILECLASS    728443 non-null float64\n",
      "INCIDENTDATE             728443 non-null object\n",
      "HOUR                     728443 non-null int64\n",
      "SCA                      726246 non-null float64\n",
      "PRECINCT                 726246 non-null float64\n",
      "COUNCIL                  716309 non-null object\n",
      "NEIGHBORHOOD             723353 non-null object\n",
      "CENSUSTRACT              678294 non-null float64\n",
      "LON                      728443 non-null float64\n",
      "LAT                      728443 non-null float64\n",
      "LOCATION                 728443 non-null object\n",
      "CrimeCat                 728443 non-null int64\n",
      "month                    728443 non-null int64\n",
      "day                      728443 non-null int64\n",
      "year                     728443 non-null int64\n",
      "dtypes: float64(6), int64(8), object(8)\n",
      "memory usage: 127.8+ MB\n"
     ]
    }
   ],
   "source": [
    "detroitdata.info()"
   ]
  },
  {
   "cell_type": "code",
   "execution_count": 22,
   "metadata": {
    "collapsed": true
   },
   "outputs": [],
   "source": [
    "dropLst = ['ROWNUM', 'CASEID', 'CRIMEID', 'CRNO',\n",
    "           'CATEGORY', 'STATEOFFENSEFILECLASS', 'INCIDENTDATE',\n",
    "           'SCA', 'COUNCIL', 'LOCATION', 'CENSUSTRACT', 'PRECINCT']"
   ]
  },
  {
   "cell_type": "code",
   "execution_count": 23,
   "metadata": {
    "collapsed": false
   },
   "outputs": [],
   "source": [
    "detroitdata = detroitdata.drop(dropLst, axis=1)"
   ]
  },
  {
   "cell_type": "code",
   "execution_count": 24,
   "metadata": {
    "collapsed": false
   },
   "outputs": [
    {
     "data": {
      "text/plain": [
       "(34523,)"
      ]
     },
     "execution_count": 24,
     "metadata": {},
     "output_type": "execute_result"
    }
   ],
   "source": [
    "detroitdata['LAT'] = detroitdata['LAT'].apply(lambda x: round(x, 3))\n",
    "detroitdata['LON'] = detroitdata['LON'].apply(lambda x: round(x, 3))\n",
    "detroitdata['loc'] = zip(detroitdata['LAT'], detroitdata['LON'])\n",
    "detroitdata['loc'].unique().shape"
   ]
  },
  {
   "cell_type": "code",
   "execution_count": 25,
   "metadata": {
    "collapsed": true
   },
   "outputs": [],
   "source": [
    "# detroitdata.to_csv('../data/detroit_clean.csv')"
   ]
  },
  {
   "cell_type": "code",
   "execution_count": 26,
   "metadata": {
    "collapsed": false
   },
   "outputs": [],
   "source": [
    "import geocoder\n",
    "import logging\n",
    "import pyprind\n",
    "import re\n",
    "import time\n",
    "\n",
    "def get_zip_dict_bing(locations):\n",
    "    global locDict\n",
    "    n = len(locations)\n",
    "#     with open('../data/dpdpost.txt', 'r+') as f:\n",
    "#         for line in f:\n",
    "#             line = re.sub(r'\\(|\\)', '', line)\n",
    "#             line = line.split(',')\n",
    "#             loc = line[0] + ', ' + line[1]\n",
    "#             locDict[loc] = line[2]\n",
    "    with open('../data/dpdpost.txt', 'w+') as f:\n",
    "        bar = pyprind.ProgBar(n)\n",
    "        for i in xrange(n):\n",
    "            loc = locations[i]\n",
    "            if loc not in locDict:\n",
    "                g = geocoder.bing(loc, method='reverse')\n",
    "                attempts = 1\n",
    "                while not(g.ok) and attempts < 4:\n",
    "                    logging.warning('Geocoding ERROR: {}'.format(g.debug()))\n",
    "                    time.sleep(5)  # 2 seconds are specified in the API. If you still get errors, it's because you've reached the daily quota.\n",
    "                    g = geocoder.bing(loc, method='reverse')\n",
    "                    attempts += 1\n",
    "                if attempts > 3:\n",
    "                    logging.warning('Daily quota of bing lookups exceeded.')\n",
    "                    break\n",
    "                zipcode = g.postal\n",
    "                f.write('{}, {} \\n'.format(loc, zipcode))\n",
    "                locDict[loc] = zipcode\n",
    "            bar.update()\n",
    "    return locDict\n"
   ]
  },
  {
   "cell_type": "code",
   "execution_count": 27,
   "metadata": {
    "collapsed": false,
    "scrolled": false
   },
   "outputs": [],
   "source": [
    "# locations = detroitdata['loc'].unique()\n",
    "# locDict = {}\n",
    "# locDict1 = get_zip_dict_bing(locations)"
   ]
  },
  {
   "cell_type": "code",
   "execution_count": 67,
   "metadata": {
    "collapsed": false
   },
   "outputs": [],
   "source": [
    "import string\n",
    "locDict = {}\n",
    "with open('../data/dpdpost.txt', 'r+') as f:\n",
    "    for line in f:\n",
    "        line = re.sub(r'\\(|\\)', '', line)\n",
    "        line = [x.strip(string.punctuation) for x in line.split()]\n",
    "        loc = (str(float(line[0])), str(float(line[1])))\n",
    "        locDict[loc] = line[2]"
   ]
  },
  {
   "cell_type": "code",
   "execution_count": 68,
   "metadata": {
    "collapsed": false
   },
   "outputs": [],
   "source": [
    "def get_post(loc):\n",
    "    loc = (str(round(loc[0], 3)), str((round(loc[1], 3))))\n",
    "    if loc in locDict:\n",
    "        return locDict[loc]\n",
    "    else:\n",
    "        return 0"
   ]
  },
  {
   "cell_type": "code",
   "execution_count": 69,
   "metadata": {
    "collapsed": false
   },
   "outputs": [],
   "source": [
    "detroitdata['zipcode'] = detroitdata['loc'].apply(get_post)"
   ]
  },
  {
   "cell_type": "code",
   "execution_count": 70,
   "metadata": {
    "collapsed": false
   },
   "outputs": [
    {
     "data": {
      "text/plain": [
       "4          0\n",
       "5          0\n",
       "6          0\n",
       "8          0\n",
       "9          0\n",
       "10         0\n",
       "13         0\n",
       "19         0\n",
       "22         0\n",
       "25         0\n",
       "26         0\n",
       "31         0\n",
       "32         0\n",
       "33         0\n",
       "37         0\n",
       "38         0\n",
       "40         0\n",
       "42         0\n",
       "43         0\n",
       "46         0\n",
       "47         0\n",
       "49         0\n",
       "50         0\n",
       "51         0\n",
       "52         0\n",
       "55         0\n",
       "57         0\n",
       "58         0\n",
       "59         0\n",
       "61         0\n",
       "          ..\n",
       "1161868    0\n",
       "1161869    0\n",
       "1161870    0\n",
       "1161872    0\n",
       "1161873    0\n",
       "1161874    0\n",
       "1161879    0\n",
       "1161882    0\n",
       "1161885    0\n",
       "1161887    0\n",
       "1161889    0\n",
       "1161890    0\n",
       "1161891    0\n",
       "1161893    0\n",
       "1161894    0\n",
       "1161896    0\n",
       "1161898    0\n",
       "1161900    0\n",
       "1161901    0\n",
       "1161902    0\n",
       "1161904    0\n",
       "1161905    0\n",
       "1161906    0\n",
       "1161910    0\n",
       "1161912    0\n",
       "1161915    0\n",
       "1161918    0\n",
       "1161919    0\n",
       "1161920    0\n",
       "1161922    0\n",
       "Name: zipcode, dtype: object"
      ]
     },
     "execution_count": 70,
     "metadata": {},
     "output_type": "execute_result"
    }
   ],
   "source": [
    "detroitdata['zipcode']"
   ]
  },
  {
   "cell_type": "code",
   "execution_count": null,
   "metadata": {
    "collapsed": true
   },
   "outputs": [],
   "source": []
  }
 ],
 "metadata": {
  "anaconda-cloud": {},
  "kernelspec": {
   "display_name": "Python [Root]",
   "language": "python",
   "name": "Python [Root]"
  },
  "language_info": {
   "codemirror_mode": {
    "name": "ipython",
    "version": 2
   },
   "file_extension": ".py",
   "mimetype": "text/x-python",
   "name": "python",
   "nbconvert_exporter": "python",
   "pygments_lexer": "ipython2",
   "version": "2.7.12"
  }
 },
 "nbformat": 4,
 "nbformat_minor": 0
}
